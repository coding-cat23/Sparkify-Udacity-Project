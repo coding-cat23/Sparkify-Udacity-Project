{
 "cells": [
  {
   "cell_type": "code",
   "execution_count": 5,
   "metadata": {},
   "outputs": [
    {
     "data": {
      "application/vnd.jupyter.widget-view+json": {
       "model_id": "",
       "version_major": 2,
       "version_minor": 0
      },
      "text/plain": [
       "FloatProgress(value=0.0, bar_style='info', description='Progress:', layout=Layout(height='25px', width='50%'),…"
      ]
     },
     "metadata": {},
     "output_type": "display_data"
    }
   ],
   "source": [
    "# import libraries\n",
    "import numpy as np\n",
    "import sys\n",
    "\n",
    "import pandas as pd\n",
    "from pyspark.sql import SparkSession\n",
    "from pyspark.sql.functions import udf\n",
    "from pyspark.sql import Window\n",
    "from pyspark.sql import functions as F\n",
    "from pyspark.sql.functions import isnan, when, count, col,countDistinct\n",
    "from pyspark.sql.types import ArrayType, BooleanType, LongType, FloatType, IntegerType, DateType,StringType\n",
    "from pyspark.sql import types as t"
   ]
  },
  {
   "cell_type": "code",
   "execution_count": 6,
   "metadata": {},
   "outputs": [
    {
     "data": {
      "application/vnd.jupyter.widget-view+json": {
       "model_id": "",
       "version_major": 2,
       "version_minor": 0
      },
      "text/plain": [
       "FloatProgress(value=0.0, bar_style='info', description='Progress:', layout=Layout(height='25px', width='50%'),…"
      ]
     },
     "metadata": {},
     "output_type": "display_data"
    }
   ],
   "source": [
    "# create a Spark session\n",
    "spark = SparkSession \\\n",
    "    .builder \\\n",
    "    .appName(\"Sparkify project\") \\\n",
    "    .getOrCreate()"
   ]
  },
  {
   "cell_type": "code",
   "execution_count": 10,
   "metadata": {},
   "outputs": [
    {
     "data": {
      "application/vnd.jupyter.widget-view+json": {
       "model_id": "",
       "version_major": 2,
       "version_minor": 0
      },
      "text/plain": [
       "FloatProgress(value=0.0, bar_style='info', description='Progress:', layout=Layout(height='25px', width='50%'),…"
      ]
     },
     "metadata": {},
     "output_type": "display_data"
    },
    {
     "name": "stderr",
     "output_type": "stream",
     "text": [
      "An error was encountered:\n",
      "'Path does not exist: file:/home/jupyter/jupyter_default_dir/mini_sparkify_event_data.json;'\n",
      "Traceback (most recent call last):\n",
      "  File \"/home/spark-2.4.3-bin-spark-2.4.3-bin-hadoop2.8/python/lib/pyspark.zip/pyspark/sql/readwriter.py\", line 274, in json\n",
      "    return self._df(self._jreader.json(self._spark._sc._jvm.PythonUtils.toSeq(path)))\n",
      "  File \"/home/spark-2.4.3-bin-spark-2.4.3-bin-hadoop2.8/python/lib/py4j-0.10.7-src.zip/py4j/java_gateway.py\", line 1257, in __call__\n",
      "    answer, self.gateway_client, self.target_id, self.name)\n",
      "  File \"/home/spark-2.4.3-bin-spark-2.4.3-bin-hadoop2.8/python/lib/pyspark.zip/pyspark/sql/utils.py\", line 69, in deco\n",
      "    raise AnalysisException(s.split(': ', 1)[1], stackTrace)\n",
      "pyspark.sql.utils.AnalysisException: 'Path does not exist: file:/home/jupyter/jupyter_default_dir/mini_sparkify_event_data.json;'\n",
      "\n"
     ]
    }
   ],
   "source": [
    "#Load dataset\n",
    "#path = \"mini_sparkify_event_data.json\"\n",
    "#sparkify_df = spark.read.json(path)\n",
    "df = spark.read.json(\"mini_sparkify_event_data.json\")"
   ]
  },
  {
   "cell_type": "code",
   "execution_count": 4,
   "metadata": {},
   "outputs": [
    {
     "data": {
      "application/vnd.jupyter.widget-view+json": {
       "model_id": "",
       "version_major": 2,
       "version_minor": 0
      },
      "text/plain": [
       "FloatProgress(value=0.0, bar_style='info', description='Progress:', layout=Layout(height='25px', width='50%'),…"
      ]
     },
     "metadata": {},
     "output_type": "display_data"
    },
    {
     "name": "stderr",
     "output_type": "stream",
     "text": [
      "An error was encountered:\n",
      "'Path does not exist: file:/home/jupyter/jupyter_default_dir/mini_sparkify_event_data.json;'\n",
      "Traceback (most recent call last):\n",
      "  File \"/home/spark-2.4.3-bin-spark-2.4.3-bin-hadoop2.8/python/lib/pyspark.zip/pyspark/sql/readwriter.py\", line 274, in json\n",
      "    return self._df(self._jreader.json(self._spark._sc._jvm.PythonUtils.toSeq(path)))\n",
      "  File \"/home/spark-2.4.3-bin-spark-2.4.3-bin-hadoop2.8/python/lib/py4j-0.10.7-src.zip/py4j/java_gateway.py\", line 1257, in __call__\n",
      "    answer, self.gateway_client, self.target_id, self.name)\n",
      "  File \"/home/spark-2.4.3-bin-spark-2.4.3-bin-hadoop2.8/python/lib/pyspark.zip/pyspark/sql/utils.py\", line 69, in deco\n",
      "    raise AnalysisException(s.split(': ', 1)[1], stackTrace)\n",
      "pyspark.sql.utils.AnalysisException: 'Path does not exist: file:/home/jupyter/jupyter_default_dir/mini_sparkify_event_data.json;'\n",
      "\n"
     ]
    }
   ],
   "source": [
    "#Load dataset\n",
    "path = \"mini_sparkify_event_data.json\"\n",
    "sparkify_df = spark.read.json(path)"
   ]
  },
  {
   "cell_type": "code",
   "execution_count": 5,
   "metadata": {},
   "outputs": [
    {
     "data": {
      "application/vnd.jupyter.widget-view+json": {
       "model_id": "",
       "version_major": 2,
       "version_minor": 0
      },
      "text/plain": [
       "FloatProgress(value=0.0, bar_style='info', description='Progress:', layout=Layout(height='25px', width='50%'),…"
      ]
     },
     "metadata": {},
     "output_type": "display_data"
    },
    {
     "name": "stderr",
     "output_type": "stream",
     "text": [
      "An error was encountered:\n",
      "name 'sparkify_df' is not defined\n",
      "Traceback (most recent call last):\n",
      "NameError: name 'sparkify_df' is not defined\n",
      "\n"
     ]
    }
   ],
   "source": [
    "#Cast userID to integer datatype\n",
    "sparkify_df = sparkify_df.withColumn(\"userId\", sparkify_df [\"userId\"].cast(IntegerType()))"
   ]
  },
  {
   "cell_type": "code",
   "execution_count": 6,
   "metadata": {},
   "outputs": [
    {
     "data": {
      "application/vnd.jupyter.widget-view+json": {
       "model_id": "",
       "version_major": 2,
       "version_minor": 0
      },
      "text/plain": [
       "FloatProgress(value=0.0, bar_style='info', description='Progress:', layout=Layout(height='25px', width='50%'),…"
      ]
     },
     "metadata": {},
     "output_type": "display_data"
    },
    {
     "name": "stderr",
     "output_type": "stream",
     "text": [
      "An error was encountered:\n",
      "name 'sparkify_df' is not defined\n",
      "Traceback (most recent call last):\n",
      "NameError: name 'sparkify_df' is not defined\n",
      "\n"
     ]
    }
   ],
   "source": [
    "#Drop records without userids or sessionids\n",
    "sparkify_df = sparkify_df.dropna(how = \"any\", subset = [\"userId\", \"sessionId\"])\n"
   ]
  },
  {
   "cell_type": "code",
   "execution_count": 7,
   "metadata": {},
   "outputs": [
    {
     "data": {
      "application/vnd.jupyter.widget-view+json": {
       "model_id": "",
       "version_major": 2,
       "version_minor": 0
      },
      "text/plain": [
       "FloatProgress(value=0.0, bar_style='info', description='Progress:', layout=Layout(height='25px', width='50%'),…"
      ]
     },
     "metadata": {},
     "output_type": "display_data"
    },
    {
     "name": "stderr",
     "output_type": "stream",
     "text": [
      "An error was encountered:\n",
      "name 'sparkify_df' is not defined\n",
      "Traceback (most recent call last):\n",
      "NameError: name 'sparkify_df' is not defined\n",
      "\n"
     ]
    }
   ],
   "source": [
    "#Drop culumns not needed for now\n",
    "sparkify_df = sparkify_df.drop(*[\"artist\",\"song\",\"firstName\", \"lastName\"]) "
   ]
  },
  {
   "cell_type": "code",
   "execution_count": 8,
   "metadata": {},
   "outputs": [
    {
     "data": {
      "application/vnd.jupyter.widget-view+json": {
       "model_id": "",
       "version_major": 2,
       "version_minor": 0
      },
      "text/plain": [
       "FloatProgress(value=0.0, bar_style='info', description='Progress:', layout=Layout(height='25px', width='50%'),…"
      ]
     },
     "metadata": {},
     "output_type": "display_data"
    },
    {
     "name": "stderr",
     "output_type": "stream",
     "text": [
      "An error was encountered:\n",
      "name 'sparkify_df' is not defined\n",
      "Traceback (most recent call last):\n",
      "NameError: name 'sparkify_df' is not defined\n",
      "\n"
     ]
    }
   ],
   "source": [
    "#Number of rows after doing some transformations\n",
    "sparkify_df.count()"
   ]
  },
  {
   "cell_type": "code",
   "execution_count": 9,
   "metadata": {},
   "outputs": [
    {
     "data": {
      "application/vnd.jupyter.widget-view+json": {
       "model_id": "",
       "version_major": 2,
       "version_minor": 0
      },
      "text/plain": [
       "FloatProgress(value=0.0, bar_style='info', description='Progress:', layout=Layout(height='25px', width='50%'),…"
      ]
     },
     "metadata": {},
     "output_type": "display_data"
    },
    {
     "name": "stderr",
     "output_type": "stream",
     "text": [
      "An error was encountered:\n",
      "name 'sparkify_df' is not defined\n",
      "Traceback (most recent call last):\n",
      "NameError: name 'sparkify_df' is not defined\n",
      "\n"
     ]
    }
   ],
   "source": [
    "#For a seleced set of columns, lets explore the unique value counts\n",
    "columns=[\"auth\",\n",
    "\"gender\",\n",
    "\"level\",\n",
    "\"location\",\n",
    "\"method\",\n",
    "\"page\",\n",
    "\"userAgent\",\n",
    "\"ts\"]\n",
    "\n",
    "for c in columns:\n",
    "    sparkify_df.groupBy(c).count().orderBy(\"count\").show()"
   ]
  },
  {
   "cell_type": "code",
   "execution_count": 10,
   "metadata": {},
   "outputs": [
    {
     "data": {
      "application/vnd.jupyter.widget-view+json": {
       "model_id": "",
       "version_major": 2,
       "version_minor": 0
      },
      "text/plain": [
       "FloatProgress(value=0.0, bar_style='info', description='Progress:', layout=Layout(height='25px', width='50%'),…"
      ]
     },
     "metadata": {},
     "output_type": "display_data"
    },
    {
     "name": "stderr",
     "output_type": "stream",
     "text": [
      "An error was encountered:\n",
      "name 'sparkify_df' is not defined\n",
      "Traceback (most recent call last):\n",
      "NameError: name 'sparkify_df' is not defined\n",
      "\n"
     ]
    }
   ],
   "source": [
    "# sparkify_df = sparkify_df.withColumn(\"ts_str\",col(\"ts\").cast(StringType()))\n",
    "# sparkify_df = sparkify_df.withColumn(\"reg_str\",col(\"registration\").cast(StringType()))\n",
    "# sparkify_df=sparkify_df.withColumn(\"ts_time\",F.to_timestamp(sparkify_df.ts_str))\n",
    "# sparkify_df=sparkify_df.withColumn(\"registration_time\",F.to_timestamp(sparkify_df.reg_str))\n",
    "# sparkify_df.printSchema()\n",
    "\n",
    "\n",
    "# representing registration and timstamp by creating new columns\n",
    "# tss = udf(lambda x: datetime.datetime.fromtimestamp(x / 1000.0).strftime(\"%m-%d-%Y %H:%M:%S\"))\n",
    "# sparkify_df = sparkify_df.withColumn('updated_ts', tss('ts'))\n",
    "# downgrade_value  = udf(lambda x: 1 if x == \"Submit Downgrade\" else 0, IntegerType())\n",
    "# sparkify_df = sparkify_df.withColumn(\"downgrade_value\", downgrade_value(\"page\"))\n",
    "\n",
    "# Converting timestamps to datetime from epoch time, to get the hour of the day\n",
    "get_hour = udf(lambda x: datetime.datetime.fromtimestamp(x / 1000.0).hour)\n",
    "# Adding a new column called hour to our dataframe\n",
    "sparkify_df = sparkify_df.withColumn(\"hour\", get_hour(sparkify_df.ts))"
   ]
  },
  {
   "cell_type": "code",
   "execution_count": 11,
   "metadata": {},
   "outputs": [
    {
     "data": {
      "application/vnd.jupyter.widget-view+json": {
       "model_id": "",
       "version_major": 2,
       "version_minor": 0
      },
      "text/plain": [
       "FloatProgress(value=0.0, bar_style='info', description='Progress:', layout=Layout(height='25px', width='50%'),…"
      ]
     },
     "metadata": {},
     "output_type": "display_data"
    },
    {
     "name": "stderr",
     "output_type": "stream",
     "text": [
      "An error was encountered:\n",
      "name 'sparkify_df' is not defined\n",
      "Traceback (most recent call last):\n",
      "NameError: name 'sparkify_df' is not defined\n",
      "\n"
     ]
    }
   ],
   "source": [
    "sparkify_df.show(5)"
   ]
  },
  {
   "cell_type": "code",
   "execution_count": null,
   "metadata": {},
   "outputs": [],
   "source": []
  }
 ],
 "metadata": {
  "kernelspec": {
   "display_name": "PySpark",
   "language": "",
   "name": "pysparkkernel"
  },
  "language_info": {
   "codemirror_mode": {
    "name": "python",
    "version": 3
   },
   "mimetype": "text/x-python",
   "name": "pyspark",
   "pygments_lexer": "python3"
  }
 },
 "nbformat": 4,
 "nbformat_minor": 4
}
