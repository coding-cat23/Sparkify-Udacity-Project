{
 "cells": [
  {
   "cell_type": "markdown",
   "metadata": {},
   "source": [
    "# Sparkify Project Workspace\n",
    "This workspace contains a tiny subset (128MB) of the full dataset available (12GB). Feel free to use this workspace to build your project, or to explore a smaller subset with Spark before deploying your cluster on the cloud. Instructions for setting up your Spark cluster is included in the last lesson of the Extracurricular Spark Course content.\n",
    "\n",
    "You can follow the steps below to guide your data analysis and model building portion of this project."
   ]
  },
  {
   "cell_type": "markdown",
   "metadata": {},
   "source": [
    "### Overview\n",
    "In this notebook we will do the following:\n",
    "- perform an initial analysis on the Sparkify dataset\n",
    "- transform the dataset into one that is suitable to be used in machine learning\n",
    "- test different machine learning models and score them\n",
    "\n",
    "### Problem statement\n",
    "Sparkify is an audio streaming and media services provider that allows users to stream millions of songs. Users may choose to be a paid member of make use of the free membership. Users can also cancel their paid membership at any time. This is referred to as churn. The aim of this project is to analyse page visits (events) and be able to predict when a user may cancel their membership."
   ]
  },
  {
   "cell_type": "code",
   "execution_count": 1,
   "metadata": {},
   "outputs": [],
   "source": [
    "# import libraries\n",
    "import numpy as np\n",
    "import matplotlib.pyplot as plt\n",
    "import seaborn as sns\n",
    "%matplotlib inline\n",
    "import pandas as pd\n",
    "import datetime\n",
    "from pyspark.sql import SparkSession,Window\n",
    "from pyspark.sql.functions import udf\n",
    "from pyspark.sql import Window\n",
    "from pyspark.sql import functions as F\n",
    "from pyspark.sql.functions import isnan, when, count, col,countDistinct\n",
    "from pyspark.sql.types import ArrayType, BooleanType, LongType, FloatType, IntegerType, DateType,StringType\n",
    "from pyspark.sql import types as t\n",
    "from pyspark.ml.feature import MinMaxScaler\n",
    "from pyspark.ml import Pipeline\n",
    "from pyspark.ml.feature import CountVectorizer, IDF, StopWordsRemover, StringIndexer, Normalizer, RegexTokenizer, StandardScaler, VectorAssembler\n",
    "from pyspark.ml.classification import RandomForestClassifier,DecisionTreeClassifier,LogisticRegression,GBTClassifier\n",
    "from pyspark.ml.evaluation import MulticlassClassificationEvaluator\n",
    "from pyspark.ml.tuning import CrossValidator, ParamGridBuilder\n",
    "from sklearn.metrics import roc_curve\n"
   ]
  },
  {
   "cell_type": "code",
   "execution_count": 2,
   "metadata": {},
   "outputs": [],
   "source": [
    "# create a Spark session\n",
    "spark = SparkSession \\\n",
    "    .builder \\\n",
    "    .appName(\"Sparkify project\") \\\n",
    "    .getOrCreate()"
   ]
  },
  {
   "cell_type": "markdown",
   "metadata": {},
   "source": [
    "# Load and Clean Dataset\n",
    "In this workspace, the mini-dataset file is `mini_sparkify_event_data.json`. Load and clean the dataset, checking for invalid or missing data - for example, records without userids or sessionids. "
   ]
  },
  {
   "cell_type": "code",
   "execution_count": 3,
   "metadata": {},
   "outputs": [],
   "source": [
    "#Load dataset\n",
    "path = \"mini_sparkify_event_data.json\"\n",
    "sparkify_df = spark.read.json(path)"
   ]
  },
  {
   "cell_type": "code",
   "execution_count": 4,
   "metadata": {},
   "outputs": [
    {
     "name": "stdout",
     "output_type": "stream",
     "text": [
      "root\n",
      " |-- artist: string (nullable = true)\n",
      " |-- auth: string (nullable = true)\n",
      " |-- firstName: string (nullable = true)\n",
      " |-- gender: string (nullable = true)\n",
      " |-- itemInSession: long (nullable = true)\n",
      " |-- lastName: string (nullable = true)\n",
      " |-- length: double (nullable = true)\n",
      " |-- level: string (nullable = true)\n",
      " |-- location: string (nullable = true)\n",
      " |-- method: string (nullable = true)\n",
      " |-- page: string (nullable = true)\n",
      " |-- registration: long (nullable = true)\n",
      " |-- sessionId: long (nullable = true)\n",
      " |-- song: string (nullable = true)\n",
      " |-- status: long (nullable = true)\n",
      " |-- ts: long (nullable = true)\n",
      " |-- userAgent: string (nullable = true)\n",
      " |-- userId: string (nullable = true)\n",
      "\n"
     ]
    }
   ],
   "source": [
    "#View the schema\n",
    "sparkify_df.printSchema()"
   ]
  },
  {
   "cell_type": "code",
   "execution_count": 5,
   "metadata": {},
   "outputs": [
    {
     "name": "stdout",
     "output_type": "stream",
     "text": [
      "+----------------+---------+---------+------+-------------+--------+---------+-----+--------------------+------+--------+-------------+---------+--------------------+------+-------------+--------------------+------+\n",
      "|          artist|     auth|firstName|gender|itemInSession|lastName|   length|level|            location|method|    page| registration|sessionId|                song|status|           ts|           userAgent|userId|\n",
      "+----------------+---------+---------+------+-------------+--------+---------+-----+--------------------+------+--------+-------------+---------+--------------------+------+-------------+--------------------+------+\n",
      "|  Martha Tilston|Logged In|    Colin|     M|           50| Freeman|277.89016| paid|     Bakersfield, CA|   PUT|NextSong|1538173362000|       29|           Rockpools|   200|1538352117000|Mozilla/5.0 (Wind...|    30|\n",
      "|Five Iron Frenzy|Logged In|    Micah|     M|           79|    Long|236.09424| free|Boston-Cambridge-...|   PUT|NextSong|1538331630000|        8|              Canada|   200|1538352180000|\"Mozilla/5.0 (Win...|     9|\n",
      "|    Adam Lambert|Logged In|    Colin|     M|           51| Freeman| 282.8273| paid|     Bakersfield, CA|   PUT|NextSong|1538173362000|       29|   Time For Miracles|   200|1538352394000|Mozilla/5.0 (Wind...|    30|\n",
      "|          Enigma|Logged In|    Micah|     M|           80|    Long|262.71302| free|Boston-Cambridge-...|   PUT|NextSong|1538331630000|        8|Knocking On Forbi...|   200|1538352416000|\"Mozilla/5.0 (Win...|     9|\n",
      "|       Daft Punk|Logged In|    Colin|     M|           52| Freeman|223.60771| paid|     Bakersfield, CA|   PUT|NextSong|1538173362000|       29|Harder Better Fas...|   200|1538352676000|Mozilla/5.0 (Wind...|    30|\n",
      "+----------------+---------+---------+------+-------------+--------+---------+-----+--------------------+------+--------+-------------+---------+--------------------+------+-------------+--------------------+------+\n",
      "only showing top 5 rows\n",
      "\n"
     ]
    }
   ],
   "source": [
    "#View first 5 rows\n",
    "sparkify_df.show(5)"
   ]
  },
  {
   "cell_type": "code",
   "execution_count": 6,
   "metadata": {},
   "outputs": [
    {
     "data": {
      "text/plain": [
       "286500"
      ]
     },
     "execution_count": 6,
     "metadata": {},
     "output_type": "execute_result"
    }
   ],
   "source": [
    "#Number of rows Before doing any transformations\n",
    "sparkify_df.count()\n"
   ]
  },
  {
   "cell_type": "code",
   "execution_count": 7,
   "metadata": {},
   "outputs": [
    {
     "name": "stdout",
     "output_type": "stream",
     "text": [
      "+----------+\n",
      "|sum(count)|\n",
      "+----------+\n",
      "|      null|\n",
      "+----------+\n",
      "\n"
     ]
    }
   ],
   "source": [
    "#Check for duplicates\n",
    "sparkify_df.groupBy(sparkify_df.columns)\\\n",
    "    .count()\\\n",
    "    .where(F.col('count') > 1)\\\n",
    "    .select(F.sum('count'))\\\n",
    "    .show()"
   ]
  },
  {
   "cell_type": "code",
   "execution_count": 8,
   "metadata": {},
   "outputs": [
    {
     "name": "stdout",
     "output_type": "stream",
     "text": [
      "+------+----+---------+------+-------------+--------+------+-----+--------+------+----+------------+---------+-----+------+---+---------+------+\n",
      "|artist|auth|firstName|gender|itemInSession|lastName|length|level|location|method|page|registration|sessionId| song|status| ts|userAgent|userId|\n",
      "+------+----+---------+------+-------------+--------+------+-----+--------+------+----+------------+---------+-----+------+---+---------+------+\n",
      "| 58392|   0|     8346|  8346|            0|    8346| 58392|    0|    8346|     0|   0|        8346|        0|58392|     0|  0|     8346|     0|\n",
      "+------+----+---------+------+-------------+--------+------+-----+--------+------+----+------------+---------+-----+------+---+---------+------+\n",
      "\n"
     ]
    }
   ],
   "source": [
    "#Check for missing values\n",
    "sparkify_df.select([count(when(isnan(c) | col(c).isNull(), c)).alias(c) for c in sparkify_df.columns]).show()"
   ]
  },
  {
   "cell_type": "code",
   "execution_count": 9,
   "metadata": {},
   "outputs": [],
   "source": [
    "#Replace null values in length with 0\n",
    "sparkify_df=sparkify_df.na.fill(value=0,subset=[\"length\"])"
   ]
  },
  {
   "cell_type": "code",
   "execution_count": 10,
   "metadata": {},
   "outputs": [],
   "source": [
    "#Cast userID to integer datatype\n",
    "sparkify_df = sparkify_df.withColumn(\"userId\", sparkify_df [\"userId\"].cast(IntegerType()))"
   ]
  },
  {
   "cell_type": "code",
   "execution_count": 11,
   "metadata": {},
   "outputs": [],
   "source": [
    "#Drop records without userids or sessionids\n",
    "sparkify_df = sparkify_df.dropna(how = \"any\", subset = [\"userId\", \"sessionId\"])"
   ]
  },
  {
   "cell_type": "code",
   "execution_count": 12,
   "metadata": {},
   "outputs": [],
   "source": [
    "#Drop culumns not needed for now\n",
    "sparkify_df = sparkify_df.drop(*[\"song\",\"firstName\", \"lastName\"])  "
   ]
  },
  {
   "cell_type": "code",
   "execution_count": 13,
   "metadata": {},
   "outputs": [
    {
     "name": "stdout",
     "output_type": "stream",
     "text": [
      "+------+\n",
      "|userId|\n",
      "+------+\n",
      "|     2|\n",
      "|     3|\n",
      "|     4|\n",
      "|     5|\n",
      "|     6|\n",
      "|     7|\n",
      "|     8|\n",
      "|     9|\n",
      "|    10|\n",
      "|    11|\n",
      "|    12|\n",
      "|    13|\n",
      "|    14|\n",
      "|    15|\n",
      "|    16|\n",
      "|    17|\n",
      "|    18|\n",
      "|    19|\n",
      "|    20|\n",
      "|    21|\n",
      "+------+\n",
      "only showing top 20 rows\n",
      "\n"
     ]
    }
   ],
   "source": [
    "sparkify_df.select(\"userId\").dropDuplicates().sort(\"userId\").show()"
   ]
  },
  {
   "cell_type": "code",
   "execution_count": 14,
   "metadata": {},
   "outputs": [
    {
     "data": {
      "text/plain": [
       "278154"
      ]
     },
     "execution_count": 14,
     "metadata": {},
     "output_type": "execute_result"
    }
   ],
   "source": [
    "#Number of rows after doing some transformations\n",
    "sparkify_df.count()"
   ]
  },
  {
   "cell_type": "markdown",
   "metadata": {},
   "source": [
    "# Exploratory Data Analysis\n",
    "When you're working with the full dataset, perform EDA by loading a small subset of the data and doing basic manipulations within Spark. In this workspace, you are already provided a small subset of data you can explore.\n",
    "\n",
    "### Define Churn\n",
    "\n",
    "Once you've done some preliminary analysis, create a column `Churn` to use as the label for your model. I suggest using the `Cancellation Confirmation` events to define your churn, which happen for both paid and free users. As a bonus task, you can also look into the `Downgrade` events.\n",
    "\n",
    "### Explore Data\n",
    "Once you've defined churn, perform some exploratory data analysis to observe the behavior for users who stayed vs users who churned. You can start by exploring aggregates on these two groups of users, observing how much of a specific action they experienced per a certain time unit or number of songs played."
   ]
  },
  {
   "cell_type": "markdown",
   "metadata": {},
   "source": [
    "### Explore the data"
   ]
  },
  {
   "cell_type": "code",
   "execution_count": 15,
   "metadata": {},
   "outputs": [
    {
     "name": "stdout",
     "output_type": "stream",
     "text": [
      "+---------+------+\n",
      "|     auth| count|\n",
      "+---------+------+\n",
      "|Cancelled|    52|\n",
      "|Logged In|278102|\n",
      "+---------+------+\n",
      "\n",
      "+------+------+\n",
      "|gender| count|\n",
      "+------+------+\n",
      "|     M|123576|\n",
      "|     F|154578|\n",
      "+------+------+\n",
      "\n",
      "+-----+------+\n",
      "|level| count|\n",
      "+-----+------+\n",
      "| free| 55721|\n",
      "| paid|222433|\n",
      "+-----+------+\n",
      "\n",
      "+--------------------+-----+\n",
      "|            location|count|\n",
      "+--------------------+-----+\n",
      "|Scranton--Wilkes-...|    6|\n",
      "|  Corpus Christi, TX|   11|\n",
      "|          Albany, OR|   23|\n",
      "|   Memphis, TN-MS-AR|   62|\n",
      "|Deltona-Daytona B...|   73|\n",
      "|Birmingham-Hoover...|   75|\n",
      "|Cincinnati, OH-KY-IN|   88|\n",
      "|       Duluth, MN-WI|  107|\n",
      "|  Port St. Lucie, FL|  117|\n",
      "|Portland-Vancouve...|  119|\n",
      "|      Montgomery, AL|  125|\n",
      "|Omaha-Council Blu...|  187|\n",
      "|          Monroe, LA|  216|\n",
      "|Santa Maria-Santa...|  218|\n",
      "|Seattle-Tacoma-Be...|  246|\n",
      "|Virginia Beach-No...|  246|\n",
      "|         Bozeman, MT|  254|\n",
      "|          Dayton, OH|  259|\n",
      "|          Muncie, IN|  292|\n",
      "|         Pontiac, IL|  315|\n",
      "+--------------------+-----+\n",
      "only showing top 20 rows\n",
      "\n",
      "+------+------+\n",
      "|method| count|\n",
      "+------+------+\n",
      "|   GET| 20336|\n",
      "|   PUT|257818|\n",
      "+------+------+\n",
      "\n",
      "+--------------------+------+\n",
      "|                page| count|\n",
      "+--------------------+------+\n",
      "|              Cancel|    52|\n",
      "|Cancellation Conf...|    52|\n",
      "|    Submit Downgrade|    63|\n",
      "|      Submit Upgrade|   159|\n",
      "|               Error|   252|\n",
      "|       Save Settings|   310|\n",
      "|               About|   495|\n",
      "|             Upgrade|   499|\n",
      "|                Help|  1454|\n",
      "|            Settings|  1514|\n",
      "|           Downgrade|  2055|\n",
      "|         Thumbs Down|  2546|\n",
      "|              Logout|  3226|\n",
      "|         Roll Advert|  3933|\n",
      "|          Add Friend|  4277|\n",
      "|     Add to Playlist|  6526|\n",
      "|                Home| 10082|\n",
      "|           Thumbs Up| 12551|\n",
      "|            NextSong|228108|\n",
      "+--------------------+------+\n",
      "\n",
      "+--------------------+-----+\n",
      "|           userAgent|count|\n",
      "+--------------------+-----+\n",
      "|Mozilla/5.0 (X11;...|   62|\n",
      "|\"Mozilla/5.0 (Mac...|  187|\n",
      "|\"Mozilla/5.0 (Mac...|  235|\n",
      "|\"Mozilla/5.0 (Mac...|  240|\n",
      "|Mozilla/5.0 (Maci...|  251|\n",
      "|\"Mozilla/5.0 (Mac...|  379|\n",
      "|\"Mozilla/5.0 (Win...|  410|\n",
      "|\"Mozilla/5.0 (Mac...|  512|\n",
      "|\"Mozilla/5.0 (Mac...|  573|\n",
      "|Mozilla/5.0 (comp...|  815|\n",
      "|Mozilla/5.0 (Wind...|  972|\n",
      "|Mozilla/5.0 (Wind...| 1102|\n",
      "|\"Mozilla/5.0 (Mac...| 1102|\n",
      "|Mozilla/5.0 (comp...| 1245|\n",
      "|\"Mozilla/5.0 (Mac...| 1262|\n",
      "|\"Mozilla/5.0 (Mac...| 1322|\n",
      "|\"Mozilla/5.0 (X11...| 1639|\n",
      "|Mozilla/5.0 (X11;...| 1874|\n",
      "|Mozilla/5.0 (Maci...| 1950|\n",
      "|\"Mozilla/5.0 (iPh...| 1976|\n",
      "+--------------------+-----+\n",
      "only showing top 20 rows\n",
      "\n"
     ]
    }
   ],
   "source": [
    "#For a seleced set of columns, lets explore the unique value counts\n",
    "columns=[\"auth\",\n",
    "\"gender\",\n",
    "\"level\",\n",
    "\"location\",\n",
    "\"method\",\n",
    "\"page\",\n",
    "\"userAgent\"]\n",
    "\n",
    "for c in columns:\n",
    "    sparkify_df.groupBy(c).count().orderBy(\"count\").show()\n",
    "    "
   ]
  },
  {
   "cell_type": "code",
   "execution_count": 16,
   "metadata": {},
   "outputs": [
    {
     "name": "stdout",
     "output_type": "stream",
     "text": [
      "+-------------+-----+\n",
      "|           ts|count|\n",
      "+-------------+-----+\n",
      "|1538360520000|    1|\n",
      "|1538368903000|    1|\n",
      "|1538380099000|    1|\n",
      "|1538380879000|    1|\n",
      "|1538390386000|    1|\n",
      "|1538399222000|    1|\n",
      "|1538402692000|    1|\n",
      "|1538405492000|    1|\n",
      "|1538411816000|    1|\n",
      "|1538420258000|    1|\n",
      "+-------------+-----+\n",
      "only showing top 10 rows\n",
      "\n",
      "+-------------+-----+\n",
      "| registration|count|\n",
      "+-------------+-----+\n",
      "|1532433959000|    6|\n",
      "|1543247354000|    6|\n",
      "|1533157139000|   11|\n",
      "|1537970819000|   23|\n",
      "|1530789251000|   35|\n",
      "|1536343087000|   36|\n",
      "|1537681013000|   40|\n",
      "|1536126401000|   44|\n",
      "|1537964483000|   44|\n",
      "|1533995214000|   45|\n",
      "+-------------+-----+\n",
      "only showing top 10 rows\n",
      "\n"
     ]
    }
   ],
   "source": [
    "#Explore ts and registration\n",
    "columns=[\"ts\",\n",
    "\"registration\"]\n",
    "for c in columns:\n",
    "    sparkify_df.groupBy(c).count().orderBy(\"count\").show(10)"
   ]
  },
  {
   "cell_type": "code",
   "execution_count": 17,
   "metadata": {},
   "outputs": [],
   "source": [
    "# convert ts and registration unix timestamps to datetime columns\n",
    "get_date_time = udf(lambda x: datetime.datetime.fromtimestamp(x / 1000.0).strftime(\"%Y-%m-%d %H:%M:%S\"))\n",
    "sparkify_df = sparkify_df.withColumn(\"event_ts\", get_date_time(\"ts\"))\n",
    "sparkify_df = sparkify_df.withColumn(\"registration_ts\", get_date_time(\"registration\"))\n",
    "\n"
   ]
  },
  {
   "cell_type": "code",
   "execution_count": 18,
   "metadata": {},
   "outputs": [
    {
     "name": "stdout",
     "output_type": "stream",
     "text": [
      "root\n",
      " |-- artist: string (nullable = true)\n",
      " |-- auth: string (nullable = true)\n",
      " |-- gender: string (nullable = true)\n",
      " |-- itemInSession: long (nullable = true)\n",
      " |-- length: double (nullable = false)\n",
      " |-- level: string (nullable = true)\n",
      " |-- location: string (nullable = true)\n",
      " |-- method: string (nullable = true)\n",
      " |-- page: string (nullable = true)\n",
      " |-- registration: long (nullable = true)\n",
      " |-- sessionId: long (nullable = true)\n",
      " |-- status: long (nullable = true)\n",
      " |-- ts: long (nullable = true)\n",
      " |-- userAgent: string (nullable = true)\n",
      " |-- userId: integer (nullable = true)\n",
      " |-- event_ts: string (nullable = true)\n",
      " |-- registration_ts: string (nullable = true)\n",
      "\n"
     ]
    }
   ],
   "source": [
    "#Check updated schema\n",
    "sparkify_df.printSchema()"
   ]
  },
  {
   "cell_type": "code",
   "execution_count": 19,
   "metadata": {},
   "outputs": [
    {
     "name": "stdout",
     "output_type": "stream",
     "text": [
      "+-------------------+-----+\n",
      "|           event_ts|count|\n",
      "+-------------------+-----+\n",
      "|2018-10-01 19:11:55|    1|\n",
      "|2018-10-02 16:29:17|    1|\n",
      "|2018-10-01 19:58:34|    1|\n",
      "|2018-10-01 05:48:39|    1|\n",
      "|2018-10-01 20:30:22|    1|\n",
      "|2018-10-01 09:52:42|    1|\n",
      "|2018-10-02 01:48:17|    1|\n",
      "|2018-10-01 10:58:42|    1|\n",
      "|2018-10-02 03:52:00|    1|\n",
      "|2018-10-01 12:54:27|    1|\n",
      "+-------------------+-----+\n",
      "only showing top 10 rows\n",
      "\n",
      "+-------------------+-----+\n",
      "|    registration_ts|count|\n",
      "+-------------------+-----+\n",
      "|2018-07-24 12:05:59|    6|\n",
      "|2018-11-26 15:49:14|    6|\n",
      "|2018-08-01 20:58:59|   11|\n",
      "|2018-09-26 14:06:59|   23|\n",
      "|2018-07-05 11:14:11|   35|\n",
      "|2018-09-07 17:58:07|   36|\n",
      "|2018-09-23 05:36:53|   40|\n",
      "|2018-09-26 12:21:23|   44|\n",
      "|2018-09-05 05:46:41|   44|\n",
      "|2018-08-11 13:46:54|   45|\n",
      "+-------------------+-----+\n",
      "only showing top 10 rows\n",
      "\n"
     ]
    }
   ],
   "source": [
    "#Check our results\n",
    "columns=[\"event_ts\",\n",
    "\"registration_ts\"]\n",
    "for c in columns:\n",
    "    sparkify_df.groupBy(c).count().orderBy(\"count\").show(10)"
   ]
  },
  {
   "cell_type": "code",
   "execution_count": 20,
   "metadata": {},
   "outputs": [
    {
     "name": "stdout",
     "output_type": "stream",
     "text": [
      "First event in our dataset:  Row(min(event_ts)='2018-10-01 00:01:57')\n",
      "Last event in our dataset:  Row(max(event_ts)='2018-12-03 01:11:16')\n"
     ]
    }
   ],
   "source": [
    "#Lets understand the date range of our events\n",
    "max_event_date = sparkify_df.agg({\"event_ts\": \"max\"}).collect()[0]\n",
    "min_event_date = sparkify_df.agg({\"event_ts\": \"min\"}).collect()[0]\n",
    "print(\"First event in our dataset: \",min_event_date)\n",
    "print(\"Last event in our dataset: \",max_event_date)"
   ]
  },
  {
   "cell_type": "code",
   "execution_count": 21,
   "metadata": {},
   "outputs": [
    {
     "data": {
      "text/plain": [
       "225"
      ]
     },
     "execution_count": 21,
     "metadata": {},
     "output_type": "execute_result"
    }
   ],
   "source": [
    "#How many unique users do we have before operations?\n",
    "sparkify_df.select(\"userId\").dropDuplicates().count()"
   ]
  },
  {
   "cell_type": "markdown",
   "metadata": {},
   "source": [
    "### Define churn"
   ]
  },
  {
   "cell_type": "code",
   "execution_count": 22,
   "metadata": {},
   "outputs": [],
   "source": [
    "#Column with boolean value for users that cancelled (churn)\n",
    "get_churned_users=udf(lambda x: 1 if x==\"Cancellation Confirmation\" else 0, IntegerType())\n",
    "sparkify_df=sparkify_df.withColumn(\"churn\",get_churned_users(\"page\"))\n",
    "\n",
    "#Column with boolean value for users that downgraded\n",
    "get_downgraded_users=udf(lambda x: 1 if x==\"Submit Downgrade\" else 0, IntegerType())\n",
    "sparkify_df=sparkify_df.withColumn(\"downgraded\",get_downgraded_users(\"page\"))"
   ]
  },
  {
   "cell_type": "code",
   "execution_count": 23,
   "metadata": {},
   "outputs": [
    {
     "name": "stdout",
     "output_type": "stream",
     "text": [
      "+-----+------+\n",
      "|churn| count|\n",
      "+-----+------+\n",
      "|    1|    52|\n",
      "|    0|278102|\n",
      "+-----+------+\n",
      "\n",
      "+----------+------+\n",
      "|downgraded| count|\n",
      "+----------+------+\n",
      "|         1|    63|\n",
      "|         0|278091|\n",
      "+----------+------+\n",
      "\n"
     ]
    }
   ],
   "source": [
    "#Check our results\n",
    "columns=[\"churn\",\n",
    "\"downgraded\"]\n",
    "for c in columns:\n",
    "    sparkify_df.groupBy(c).count().orderBy(\"count\").show(10)"
   ]
  },
  {
   "cell_type": "code",
   "execution_count": 24,
   "metadata": {},
   "outputs": [],
   "source": [
    "#Find the downgragded and churned users using window aggregate functions\n",
    "downgrade_users_window=Window.partitionBy(\"UserId\")\n",
    "churn_users_window=Window.partitionBy(\"UserId\")\n",
    "sparkify_df=sparkify_df.withColumn(\"churn_user\",F.max(\"churn\").over(churn_users_window))\n",
    "sparkify_df=sparkify_df.withColumn(\"downgraded_user\",F.max(\"downgraded\").over(downgrade_users_window))\n"
   ]
  },
  {
   "cell_type": "code",
   "execution_count": 25,
   "metadata": {},
   "outputs": [
    {
     "name": "stdout",
     "output_type": "stream",
     "text": [
      "root\n",
      " |-- artist: string (nullable = true)\n",
      " |-- auth: string (nullable = true)\n",
      " |-- gender: string (nullable = true)\n",
      " |-- itemInSession: long (nullable = true)\n",
      " |-- length: double (nullable = false)\n",
      " |-- level: string (nullable = true)\n",
      " |-- location: string (nullable = true)\n",
      " |-- method: string (nullable = true)\n",
      " |-- page: string (nullable = true)\n",
      " |-- registration: long (nullable = true)\n",
      " |-- sessionId: long (nullable = true)\n",
      " |-- status: long (nullable = true)\n",
      " |-- ts: long (nullable = true)\n",
      " |-- userAgent: string (nullable = true)\n",
      " |-- userId: integer (nullable = true)\n",
      " |-- event_ts: string (nullable = true)\n",
      " |-- registration_ts: string (nullable = true)\n",
      " |-- churn: integer (nullable = true)\n",
      " |-- downgraded: integer (nullable = true)\n",
      " |-- churn_user: integer (nullable = true)\n",
      " |-- downgraded_user: integer (nullable = true)\n",
      "\n"
     ]
    }
   ],
   "source": [
    "sparkify_df.printSchema()"
   ]
  },
  {
   "cell_type": "code",
   "execution_count": 26,
   "metadata": {},
   "outputs": [],
   "source": [
    "#Drop some extra unneeded columns\n",
    "sparkify_df = sparkify_df.drop(*[\"ts\",\"registration\",\"churn\", \"downgraded\"])  "
   ]
  },
  {
   "cell_type": "code",
   "execution_count": 27,
   "metadata": {},
   "outputs": [
    {
     "name": "stdout",
     "output_type": "stream",
     "text": [
      "+------+------+-------------------+----------+---------------+\n",
      "|userId|gender|    registration_ts|churn_user|downgraded_user|\n",
      "+------+------+-------------------+----------+---------------+\n",
      "|   148|     M|2018-09-21 11:57:56|         0|              0|\n",
      "|    85|     M|2018-08-13 04:18:18|         0|              1|\n",
      "|   137|     M|2018-07-24 16:44:26|         0|              0|\n",
      "|    65|     M|2018-09-19 08:53:31|         0|              0|\n",
      "|200001|     M|2018-09-29 21:06:20|         1|              0|\n",
      "|    53|     M|2018-09-27 12:09:24|         1|              0|\n",
      "|   133|     M|2018-09-05 05:46:41|         0|              0|\n",
      "|100003|     F|2018-09-18 22:22:24|         1|              0|\n",
      "|200021|     F|2018-08-23 14:01:54|         1|              0|\n",
      "|    78|     F|2018-09-30 10:47:35|         0|              0|\n",
      "|100007|     F|2018-08-06 02:26:59|         1|              0|\n",
      "|300011|     F|2018-09-30 19:46:11|         0|              1|\n",
      "|   108|     F|2018-09-29 10:12:43|         0|              0|\n",
      "|   155|     F|2018-11-04 22:27:50|         0|              0|\n",
      "|    34|     M|2018-09-11 09:50:47|         0|              0|\n",
      "|   101|     M|2018-08-23 23:19:40|         1|              0|\n",
      "|   115|     F|2018-09-14 18:03:01|         0|              0|\n",
      "|   126|     M|2018-09-29 13:23:28|         0|              0|\n",
      "|    81|     M|2018-08-24 06:49:27|         0|              1|\n",
      "|100005|     M|2018-07-26 13:15:26|         1|              0|\n",
      "+------+------+-------------------+----------+---------------+\n",
      "only showing top 20 rows\n",
      "\n"
     ]
    }
   ],
   "source": [
    "#View our results so far for subset of users\n",
    "sparkify_df.select([\"userId\",\"gender\",\"registration_ts\",\"churn_user\",\"downgraded_user\"]).dropDuplicates(subset=[\"userId\"]).show(20)"
   ]
  },
  {
   "cell_type": "markdown",
   "metadata": {},
   "source": [
    "### Exploratory data analysis to observe the behavior for users who stayed vs users who churned"
   ]
  },
  {
   "cell_type": "code",
   "execution_count": 28,
   "metadata": {},
   "outputs": [],
   "source": [
    "#First lets look at the page events of churned users vs non-churned users"
   ]
  },
  {
   "cell_type": "code",
   "execution_count": 29,
   "metadata": {},
   "outputs": [
    {
     "data": {
      "image/png": "[encoded data removed]",
      "text/plain": [
       "<matplotlib.figure.Figure at 0x7f70600f79b0>"
      ]
     },
     "metadata": {
      "needs_background": "light"
     },
     "output_type": "display_data"
    }
   ],
   "source": [
    "sparkify_df.filter((F.col(\"churn_user\")==1)&(F.col(\"page\")!=\"NextSong\")).toPandas()\\\n",
    "                    .page.value_counts().plot(kind='bar',figsize=(8,8));\n",
    "plt.title(\"Churned Users Page Counts\")\n",
    "plt.show()"
   ]
  },
  {
   "cell_type": "code",
   "execution_count": 30,
   "metadata": {},
   "outputs": [
    {
     "data": {
      "image/png": "[encoded data removed]",
      "text/plain": [
       "<matplotlib.figure.Figure at 0x7f707f794be0>"
      ]
     },
     "metadata": {
      "needs_background": "light"
     },
     "output_type": "display_data"
    }
   ],
   "source": [
    "sparkify_df.filter((F.col(\"churn_user\")==0)&(F.col(\"page\")!=\"NextSong\")).toPandas()\\\n",
    "                    .page.value_counts().plot(kind='bar',figsize=(8,8));\n",
    "plt.title(\"Non Churned Users Page Counts\")\n",
    "plt.show()"
   ]
  },
  {
   "cell_type": "code",
   "execution_count": 31,
   "metadata": {},
   "outputs": [],
   "source": [
    "#Observation: We can see that non-churned users were more active in adding their friends"
   ]
  },
  {
   "cell_type": "code",
   "execution_count": 32,
   "metadata": {},
   "outputs": [],
   "source": [
    "#Now we can explore some attributes around users\n",
    "sparkify_users=sparkify_df.select([\"userId\", \"gender\",\"downgraded_user\",\"location\",\"churn_user\"]).dropDuplicates(subset = ['userId'])"
   ]
  },
  {
   "cell_type": "code",
   "execution_count": 33,
   "metadata": {},
   "outputs": [
    {
     "data": {
      "image/png": "[encoded data removed]",
      "text/plain": [
       "<matplotlib.figure.Figure at 0x7f704cfed8d0>"
      ]
     },
     "metadata": {
      "needs_background": "light"
     },
     "output_type": "display_data"
    }
   ],
   "source": [
    "sparkify_users.toPandas()\\\n",
    "                    .gender.value_counts().plot(kind='bar',figsize=(5,5),color=[\"blue\",\"pink\"]);"
   ]
  },
  {
   "cell_type": "code",
   "execution_count": 34,
   "metadata": {},
   "outputs": [],
   "source": [
    "# Observe our dataset contains more male than female users"
   ]
  },
  {
   "cell_type": "code",
   "execution_count": 35,
   "metadata": {},
   "outputs": [
    {
     "data": {
      "image/png": "[encoded data removed]",
      "text/plain": [
       "<matplotlib.figure.Figure at 0x7f707842e550>"
      ]
     },
     "metadata": {
      "needs_background": "light"
     },
     "output_type": "display_data"
    }
   ],
   "source": [
    "sparkify_users_pd=sparkify_users.toPandas()\n",
    "pd.crosstab(sparkify_users_pd[\"gender\"],sparkify_users_pd[\"churn_user\"]).plot\\\n",
    "            .bar(color=[\"red\",\"green\"], title=\"Churned Users By Gender\");"
   ]
  },
  {
   "cell_type": "code",
   "execution_count": 36,
   "metadata": {},
   "outputs": [],
   "source": [
    "# The churned users by gender does not give us any immediate insights"
   ]
  },
  {
   "cell_type": "code",
   "execution_count": 37,
   "metadata": {},
   "outputs": [
    {
     "data": {
      "image/png": "[encoded data removed]",
      "text/plain": [
       "<matplotlib.figure.Figure at 0x7f7044e3deb8>"
      ]
     },
     "metadata": {
      "needs_background": "light"
     },
     "output_type": "display_data"
    }
   ],
   "source": [
    "pd.crosstab(sparkify_users_pd[\"downgraded_user\"],sparkify_users_pd[\"churn_user\"]).plot\\\n",
    "            .bar(color=[\"red\",\"green\"], title=\"Churned Users Downgrade Status\");"
   ]
  },
  {
   "cell_type": "code",
   "execution_count": 38,
   "metadata": {},
   "outputs": [],
   "source": [
    "#Observe that most users are on the paid plan and didn't churn. But still there are even users on the free plan the did churn"
   ]
  },
  {
   "cell_type": "code",
   "execution_count": 39,
   "metadata": {},
   "outputs": [
    {
     "name": "stdout",
     "output_type": "stream",
     "text": [
      "+------+----------+-----+\n",
      "|userId|churn_user|count|\n",
      "+------+----------+-----+\n",
      "|   148|         0|  398|\n",
      "|    85|         0| 3616|\n",
      "|   137|         0|  154|\n",
      "|    65|         0| 2113|\n",
      "|   133|         0|   32|\n",
      "|    78|         0|  254|\n",
      "|300011|         0| 4619|\n",
      "|   108|         0|  633|\n",
      "|   155|         0|  820|\n",
      "|    34|         0|   53|\n",
      "|   115|         0| 1737|\n",
      "|   126|         0| 2577|\n",
      "|    81|         0| 1974|\n",
      "|300010|         0|  263|\n",
      "|300017|         0| 3632|\n",
      "|    76|         0|  212|\n",
      "|    26|         0|  255|\n",
      "|    27|         0|  220|\n",
      "|    44|         0|  429|\n",
      "|200014|         0|  747|\n",
      "+------+----------+-----+\n",
      "only showing top 20 rows\n",
      "\n"
     ]
    }
   ],
   "source": [
    "#Total Number of songs listened to per user, using the \"NextSong\" page event\n",
    "sparkify_df.filter((F.col(\"page\")==\"NextSong\")&(F.col(\"churn_user\")==0)).groupBy([\"userId\",\"churn_user\"]).count().show()"
   ]
  },
  {
   "cell_type": "code",
   "execution_count": 40,
   "metadata": {},
   "outputs": [
    {
     "data": {
      "image/png": "[encoded data removed]",
      "text/plain": [
       "<matplotlib.figure.Figure at 0x7f704f093048>"
      ]
     },
     "metadata": {
      "needs_background": "light"
     },
     "output_type": "display_data"
    }
   ],
   "source": [
    "#Total songs per user - for non-churned users\n",
    "sparkify_df.filter((F.col(\"page\")==\"NextSong\")&(F.col(\"churn_user\")==0)).groupBy([\"userId\",\"churn_user\"]).count()\\\n",
    ".toPandas().hist(column=\"count\", bins=20);"
   ]
  },
  {
   "cell_type": "code",
   "execution_count": 41,
   "metadata": {},
   "outputs": [
    {
     "data": {
      "image/png": "[encoded data removed]",
      "text/plain": [
       "<matplotlib.figure.Figure at 0x7f704ce7e940>"
      ]
     },
     "metadata": {
      "needs_background": "light"
     },
     "output_type": "display_data"
    }
   ],
   "source": [
    "#Total songs per user- for churned users\n",
    "sparkify_df.filter((F.col(\"page\")==\"NextSong\")&(F.col(\"churn_user\")==1)).groupBy([\"userId\",\"churn_user\"]).count()\\\n",
    ".toPandas().hist(column=\"count\", bins=20);"
   ]
  },
  {
   "cell_type": "code",
   "execution_count": 42,
   "metadata": {},
   "outputs": [],
   "source": [
    "#We can immediatly observe that non-churned users listened to a greater total number of songs per user. \n",
    "#This coud be related to how long they have been using the platform, which we will explore in our features"
   ]
  },
  {
   "cell_type": "code",
   "execution_count": 43,
   "metadata": {},
   "outputs": [],
   "source": [
    "#Total Number of songs per user, per session, churned users\n",
    "songs_per_session_df=sparkify_df.filter(F.col(\"page\")==\"NextSong\")\\\n",
    "    .groupBy([\"userId\",\"churn_user\",\"sessionId\"]).count()"
   ]
  },
  {
   "cell_type": "code",
   "execution_count": 44,
   "metadata": {},
   "outputs": [
    {
     "name": "stdout",
     "output_type": "stream",
     "text": [
      "+------+----------+---------+-----+\n",
      "|userId|churn_user|sessionId|count|\n",
      "+------+----------+---------+-----+\n",
      "|   148|         0|      147|    8|\n",
      "|   148|         0|      531|   17|\n",
      "|   148|         0|      680|   13|\n",
      "|   148|         0|      736|  129|\n",
      "|   148|         0|      896|   79|\n",
      "|   148|         0|      940|   31|\n",
      "|   148|         0|     1127|    6|\n",
      "|   148|         0|     1274|   46|\n",
      "|   148|         0|     1731|   17|\n",
      "|   148|         0|     1734|   24|\n",
      "+------+----------+---------+-----+\n",
      "only showing top 10 rows\n",
      "\n"
     ]
    }
   ],
   "source": [
    "songs_per_session_df.show(10)"
   ]
  },
  {
   "cell_type": "code",
   "execution_count": 45,
   "metadata": {},
   "outputs": [],
   "source": [
    "#Average number of songs per session, per user"
   ]
  },
  {
   "cell_type": "code",
   "execution_count": 46,
   "metadata": {},
   "outputs": [
    {
     "name": "stdout",
     "output_type": "stream",
     "text": [
      "+------+----------+------------------+---------------------+\n",
      "|userId|churn_user|        avg(count)|avg_songs_per_session|\n",
      "+------+----------+------------------+---------------------+\n",
      "|   148|         0|33.166666666666664|                   33|\n",
      "|    85|         0|              90.4|                   90|\n",
      "|   137|         0|51.333333333333336|                   51|\n",
      "|    65|         0| 96.04545454545455|                   96|\n",
      "|200001|         1|             28.75|                   29|\n",
      "|    53|         1| 83.14285714285714|                   83|\n",
      "|   133|         0|              32.0|                   32|\n",
      "|100003|         1|              25.5|                   26|\n",
      "|200021|         1|           76.6875|                   77|\n",
      "|    78|         0| 28.22222222222222|                   28|\n",
      "|100007|         1|              47.0|                   47|\n",
      "|300011|         0|63.273972602739725|                   63|\n",
      "|   108|         0|             105.5|                  106|\n",
      "|   155|         0|136.66666666666666|                  137|\n",
      "|    34|         0|17.666666666666668|                   18|\n",
      "|   101|         1|             179.7|                  180|\n",
      "|   115|         0|             173.7|                  174|\n",
      "|   126|         0| 88.86206896551724|                   89|\n",
      "|    81|         0|103.89473684210526|                  104|\n",
      "|100005|         1|              38.5|                   39|\n",
      "+------+----------+------------------+---------------------+\n",
      "only showing top 20 rows\n",
      "\n"
     ]
    }
   ],
   "source": [
    "avg_songs_per_session_df=songs_per_session_df.groupBy([\"userId\",\"churn_user\"]).agg({\"count\":\"avg\"})\n",
    "#Number of songs should be a whole number\n",
    "avg_songs_per_session_df = avg_songs_per_session_df\\\n",
    "                        .withColumn(\"avg_songs_per_session\",F.round(avg_songs_per_session_df[\"avg(count)\"]).cast(IntegerType()))\n",
    "\n",
    "avg_songs_per_session_df.show()"
   ]
  },
  {
   "cell_type": "code",
   "execution_count": 47,
   "metadata": {},
   "outputs": [
    {
     "data": {
      "image/png": "[encoded data removed]",
      "text/plain": [
       "<matplotlib.figure.Figure at 0x7f7044ef97f0>"
      ]
     },
     "metadata": {
      "needs_background": "light"
     },
     "output_type": "display_data"
    }
   ],
   "source": [
    "#Average songs per user- for churned users\n",
    "avg_songs_per_session_df.filter(F.col(\"churn_user\")==1).toPandas()\\\n",
    "                        .hist(column=\"avg_songs_per_session\", bins=20);"
   ]
  },
  {
   "cell_type": "code",
   "execution_count": 48,
   "metadata": {},
   "outputs": [
    {
     "data": {
      "image/png": "[encoded data removed]",
      "text/plain": [
       "<matplotlib.figure.Figure at 0x7f7044f32400>"
      ]
     },
     "metadata": {
      "needs_background": "light"
     },
     "output_type": "display_data"
    }
   ],
   "source": [
    "#Average songs per user- for non-churned users\n",
    "avg_songs_per_session_df.filter(F.col(\"churn_user\")==0).toPandas()\\\n",
    "                        .hist(column=\"avg_songs_per_session\", bins=20);"
   ]
  },
  {
   "cell_type": "code",
   "execution_count": 49,
   "metadata": {},
   "outputs": [],
   "source": [
    "#As a final observation, we can see that in general, non-churned users made greater use of the platform\n",
    "#and listened to more songs"
   ]
  },
  {
   "cell_type": "markdown",
   "metadata": {},
   "source": [
    "# Feature Engineering\n",
    "Once you've familiarized yourself with the data, build out the features you find promising to train your model on. To work with the full dataset, you can follow the following steps.\n",
    "- Write a script to extract the necessary features from the smaller subset of data\n",
    "- Ensure that your script is scalable, using the best practices discussed in Lesson 3\n",
    "- Try your script on the full data set, debugging your script if necessary\n",
    "\n",
    "If you are working in the classroom workspace, you can just extract features based on the small subset of data contained here. Be sure to transfer over this work to the larger dataset when you work on your Spark cluster."
   ]
  },
  {
   "cell_type": "code",
   "execution_count": 50,
   "metadata": {},
   "outputs": [
    {
     "name": "stdout",
     "output_type": "stream",
     "text": [
      "+------+------+\n",
      "|userId|gender|\n",
      "+------+------+\n",
      "|   148|     0|\n",
      "|    85|     0|\n",
      "|   137|     0|\n",
      "|    65|     0|\n",
      "|200001|     0|\n",
      "|    53|     0|\n",
      "|   133|     0|\n",
      "|100003|     1|\n",
      "|200021|     1|\n",
      "|    78|     1|\n",
      "|100007|     1|\n",
      "|300011|     1|\n",
      "|   108|     1|\n",
      "|   155|     1|\n",
      "|    34|     0|\n",
      "|   101|     0|\n",
      "|   115|     1|\n",
      "|   126|     0|\n",
      "|    81|     0|\n",
      "|100005|     0|\n",
      "+------+------+\n",
      "only showing top 20 rows\n",
      "\n"
     ]
    }
   ],
   "source": [
    "#Feature 1: user gender\n",
    "gender_feat_df=sparkify_df.select([\"userId\",\"gender\"]).dropDuplicates(subset=[\"userId\"])\\\n",
    "                .replace([\"F\",\"M\"],[\"1\",\"0\"])\n",
    "gender_feat_df.show()"
   ]
  },
  {
   "cell_type": "code",
   "execution_count": 51,
   "metadata": {},
   "outputs": [
    {
     "name": "stdout",
     "output_type": "stream",
     "text": [
      "+------+--------------------+\n",
      "|userId|total_session_length|\n",
      "+------+--------------------+\n",
      "|   148|   97796.86112999993|\n",
      "|   137|   38385.87630999999|\n",
      "|    85|    909088.972689999|\n",
      "|    65|   529357.9054199992|\n",
      "|200001|  30793.221329999982|\n",
      "|    53|   431131.0810900001|\n",
      "|   133|   8029.164280000002|\n",
      "|100003|  12306.419320000003|\n",
      "|200021|  300718.15056000033|\n",
      "|    78|   62494.42193999997|\n",
      "|100007|  104495.32492000007|\n",
      "|300011|  1149641.2196899974|\n",
      "|   108|   156542.7986499999|\n",
      "|   155|         198779.2919|\n",
      "|    34|  12931.084549999996|\n",
      "|   101|   447464.0146699989|\n",
      "|   126|   648839.6086000006|\n",
      "|   115|  431447.61070999934|\n",
      "|    81|        497847.84291|\n",
      "|100005|   37037.12201000001|\n",
      "+------+--------------------+\n",
      "only showing top 20 rows\n",
      "\n"
     ]
    }
   ],
   "source": [
    "#Feature 2: total time spent on the platform (sum of session length)\n",
    "total_len_feat_df=sparkify_df.groupBy(\"userId\")\\\n",
    "                .agg(F.sum(\"length\")).withColumnRenamed(\"sum(length)\", \"total_session_length\")\n",
    "total_len_feat_df.show()"
   ]
  },
  {
   "cell_type": "code",
   "execution_count": 52,
   "metadata": {},
   "outputs": [
    {
     "name": "stdout",
     "output_type": "stream",
     "text": [
      "+------+------------------+\n",
      "|userId|avg_session_length|\n",
      "+------+------------------+\n",
      "|   148|188.79702920849408|\n",
      "|   137|183.66447995215307|\n",
      "|    85|208.02951320137277|\n",
      "|    65|  208.080937665094|\n",
      "|200001|194.89380588607582|\n",
      "|    53|208.88133773740316|\n",
      "|   133| 182.4810063636364|\n",
      "|100003| 157.7746066666667|\n",
      "|200021|200.21181794940102|\n",
      "|    78|192.88401833333324|\n",
      "|100007|200.95254792307705|\n",
      "|300011| 200.5654605181433|\n",
      "|   108| 204.8989511125653|\n",
      "|   155| 198.3825268463074|\n",
      "|    34|177.13814452054788|\n",
      "|   101|208.21964386691434|\n",
      "|   126|209.16815235332064|\n",
      "|   115|207.82640207610757|\n",
      "|    81|  213.211067627409|\n",
      "|100005|171.46815745370372|\n",
      "+------+------------------+\n",
      "only showing top 20 rows\n",
      "\n"
     ]
    }
   ],
   "source": [
    "# Feature 3: average length of session\n",
    "avg_session_len_feat_df=sparkify_df.groupBy([\"userId\"]).agg({\"length\":\"avg\"})\\\n",
    "                        .withColumnRenamed(\"avg(length)\", \"avg_session_length\")\n",
    "\n",
    "avg_session_len_feat_df.show()"
   ]
  },
  {
   "cell_type": "code",
   "execution_count": 53,
   "metadata": {},
   "outputs": [
    {
     "name": "stdout",
     "output_type": "stream",
     "text": [
      "+------+-----------+\n",
      "|userId|total_songs|\n",
      "+------+-----------+\n",
      "|   148|        398|\n",
      "|   137|        154|\n",
      "|    85|       3616|\n",
      "|    65|       2113|\n",
      "|200001|        115|\n",
      "|    53|       1746|\n",
      "|   133|         32|\n",
      "|100003|         51|\n",
      "|200021|       1227|\n",
      "|    78|        254|\n",
      "|100007|        423|\n",
      "|300011|       4619|\n",
      "|   108|        633|\n",
      "|   155|        820|\n",
      "|    34|         53|\n",
      "|   101|       1797|\n",
      "|   126|       2577|\n",
      "|   115|       1737|\n",
      "|    81|       1974|\n",
      "|100005|        154|\n",
      "+------+-----------+\n",
      "only showing top 20 rows\n",
      "\n"
     ]
    }
   ],
   "source": [
    "# Feature 4: total number of songs listened to per user\n",
    "total_songs_feat_df=sparkify_df.filter(F.col(\"page\")==\"NextSong\")\\\n",
    "                        .groupBy(\"userId\").count()\\\n",
    "                        .withColumnRenamed(\"count\", \"total_songs\")\n",
    "total_songs_feat_df.show()"
   ]
  },
  {
   "cell_type": "code",
   "execution_count": 54,
   "metadata": {},
   "outputs": [
    {
     "name": "stdout",
     "output_type": "stream",
     "text": [
      "+------+---------------------+\n",
      "|userId|avg_songs_per_session|\n",
      "+------+---------------------+\n",
      "|   148|                   33|\n",
      "|    85|                   90|\n",
      "|   137|                   51|\n",
      "|    65|                   96|\n",
      "|200001|                   29|\n",
      "|    53|                   83|\n",
      "|   133|                   32|\n",
      "|100003|                   26|\n",
      "|200021|                   77|\n",
      "|    78|                   28|\n",
      "|100007|                   47|\n",
      "|300011|                   63|\n",
      "|   108|                  106|\n",
      "|   155|                  137|\n",
      "|    34|                   18|\n",
      "|   101|                  180|\n",
      "|   115|                  174|\n",
      "|   126|                   89|\n",
      "|    81|                  104|\n",
      "|100005|                   39|\n",
      "+------+---------------------+\n",
      "only showing top 20 rows\n",
      "\n"
     ]
    }
   ],
   "source": [
    "# Feature 5: average number of songs listened to per user per session\n",
    "#Use the dataframe created in our exploration\n",
    "avg_songs_per_session_feat_df=avg_songs_per_session_df.select(\"userId\",\"avg_songs_per_session\")\n",
    "avg_songs_per_session_feat_df.show()"
   ]
  },
  {
   "cell_type": "code",
   "execution_count": 55,
   "metadata": {},
   "outputs": [
    {
     "name": "stdout",
     "output_type": "stream",
     "text": [
      "+------+-------------+\n",
      "|userId|total_friends|\n",
      "+------+-------------+\n",
      "|   148|            7|\n",
      "|   137|            8|\n",
      "|    85|           58|\n",
      "|    65|           53|\n",
      "|    53|           25|\n",
      "|   133|            1|\n",
      "|200021|           19|\n",
      "|    78|            2|\n",
      "|100007|           17|\n",
      "|300011|           93|\n",
      "|   108|           15|\n",
      "|   155|           11|\n",
      "|   101|           29|\n",
      "|   115|           39|\n",
      "|   126|           33|\n",
      "|    81|           23|\n",
      "|100005|            3|\n",
      "|300010|            8|\n",
      "|    28|           20|\n",
      "|300017|           63|\n",
      "+------+-------------+\n",
      "only showing top 20 rows\n",
      "\n"
     ]
    }
   ],
   "source": [
    "# Feature 6: Number of friends added\n",
    "total_friends_feat_df=sparkify_df.filter(F.col(\"page\")==\"Add Friend\")\\\n",
    "                        .groupBy(\"userId\").count()\\\n",
    "                        .withColumnRenamed(\"count\", \"total_friends\")\n",
    "total_friends_feat_df.show()"
   ]
  },
  {
   "cell_type": "code",
   "execution_count": 56,
   "metadata": {},
   "outputs": [
    {
     "name": "stdout",
     "output_type": "stream",
     "text": [
      "+------+--------------+\n",
      "|userId|playlist_songs|\n",
      "+------+--------------+\n",
      "|   148|             5|\n",
      "|   137|             4|\n",
      "|    85|           108|\n",
      "|    65|            68|\n",
      "|200001|             3|\n",
      "|    53|            46|\n",
      "|   133|             3|\n",
      "|100003|             2|\n",
      "|200021|            30|\n",
      "|    78|             9|\n",
      "|100007|             9|\n",
      "|300011|           146|\n",
      "|   108|            15|\n",
      "|   155|            24|\n",
      "|    34|             4|\n",
      "|   126|            72|\n",
      "|   101|            61|\n",
      "|   115|            42|\n",
      "|    81|            51|\n",
      "|100005|             3|\n",
      "+------+--------------+\n",
      "only showing top 20 rows\n",
      "\n"
     ]
    }
   ],
   "source": [
    "# Feature 7: Number of songs added to playlist\n",
    "playlist_feat_df=sparkify_df.filter(F.col(\"page\")==\"Add to Playlist\")\\\n",
    "                        .groupBy(\"userId\").count()\\\n",
    "                        .withColumnRenamed(\"count\", \"playlist_songs\")\n",
    "playlist_feat_df.show()"
   ]
  },
  {
   "cell_type": "code",
   "execution_count": 57,
   "metadata": {},
   "outputs": [
    {
     "name": "stdout",
     "output_type": "stream",
     "text": [
      "+------+-----------+\n",
      "|userId|songs_liked|\n",
      "+------+-----------+\n",
      "|   148|         28|\n",
      "|   137|          8|\n",
      "|    85|        192|\n",
      "|    65|        111|\n",
      "|200001|         10|\n",
      "|    53|         69|\n",
      "|   133|          2|\n",
      "|100003|          3|\n",
      "|200021|         55|\n",
      "|    78|         11|\n",
      "|100007|         19|\n",
      "|300011|        437|\n",
      "|   108|         20|\n",
      "|   155|         58|\n",
      "|    34|          2|\n",
      "|   101|         86|\n",
      "|   126|        135|\n",
      "|   115|         92|\n",
      "|    81|         94|\n",
      "|100005|          7|\n",
      "+------+-----------+\n",
      "only showing top 20 rows\n",
      "\n"
     ]
    }
   ],
   "source": [
    "# Feature 8: Number of songs liked\n",
    "liked_feat_df=sparkify_df.filter(F.col(\"page\")==\"Thumbs Up\")\\\n",
    "                        .groupBy(\"userId\").count()\\\n",
    "                        .withColumnRenamed(\"count\", \"songs_liked\")\n",
    "liked_feat_df.show()"
   ]
  },
  {
   "cell_type": "code",
   "execution_count": 58,
   "metadata": {},
   "outputs": [
    {
     "name": "stdout",
     "output_type": "stream",
     "text": [
      "+------+--------------+\n",
      "|userId|songs_disliked|\n",
      "+------+--------------+\n",
      "|   148|             3|\n",
      "|    85|            38|\n",
      "|   137|             1|\n",
      "|    65|            17|\n",
      "|200001|             1|\n",
      "|    53|            16|\n",
      "|200021|            35|\n",
      "|    78|             3|\n",
      "|100007|             6|\n",
      "|300011|            41|\n",
      "|   108|             6|\n",
      "|   155|             3|\n",
      "|   101|            16|\n",
      "|   115|            24|\n",
      "|   126|            21|\n",
      "|    81|            14|\n",
      "|100005|             3|\n",
      "|300010|             1|\n",
      "|    28|            22|\n",
      "|300017|            28|\n",
      "+------+--------------+\n",
      "only showing top 20 rows\n",
      "\n"
     ]
    }
   ],
   "source": [
    "# Feature 9: Number of songs disliked\n",
    "disliked_feat_df=sparkify_df.filter(F.col(\"page\")==\"Thumbs Down\")\\\n",
    "                        .groupBy(\"userId\").count()\\\n",
    "                        .withColumnRenamed(\"count\", \"songs_disliked\")\n",
    "disliked_feat_df.show()"
   ]
  },
  {
   "cell_type": "code",
   "execution_count": 59,
   "metadata": {},
   "outputs": [
    {
     "name": "stdout",
     "output_type": "stream",
     "text": [
      "+------+-----+\n",
      "|userId|count|\n",
      "+------+-----+\n",
      "|   148|  350|\n",
      "|    85| 2124|\n",
      "|   137|  143|\n",
      "|    65| 1377|\n",
      "|200001|  110|\n",
      "|    53| 1198|\n",
      "|200021|  908|\n",
      "|   133|   32|\n",
      "|100003|   50|\n",
      "|    78|  226|\n",
      "|100007|  357|\n",
      "|300011| 2491|\n",
      "|   155|  643|\n",
      "|   108|  509|\n",
      "|    34|   53|\n",
      "|   101| 1241|\n",
      "|   115| 1212|\n",
      "|   126| 1643|\n",
      "|    81| 1307|\n",
      "|100005|  149|\n",
      "+------+-----+\n",
      "only showing top 20 rows\n",
      "\n"
     ]
    }
   ],
   "source": [
    "# Feature 10: Number of artists listened to\n",
    "artists_feat_df=sparkify_df.filter(F.col(\"page\")==\"NextSong\")\\\n",
    "                .select(\"userId\",\"artist\").dropDuplicates()\\\n",
    "                .groupBy(\"userId\").count()\n",
    "artists_feat_df.show()"
   ]
  },
  {
   "cell_type": "code",
   "execution_count": 60,
   "metadata": {},
   "outputs": [
    {
     "name": "stdout",
     "output_type": "stream",
     "text": [
      "+------+-------------------+-------------------+\n",
      "|userId|    registration_ts|           event_ts|\n",
      "+------+-------------------+-------------------+\n",
      "|    30|2018-09-28 22:22:42|2018-10-01 00:01:57|\n",
      "|     9|2018-09-30 18:20:30|2018-10-01 00:03:00|\n",
      "|    30|2018-09-28 22:22:42|2018-10-01 00:06:34|\n",
      "|     9|2018-09-30 18:20:30|2018-10-01 00:06:56|\n",
      "|    30|2018-09-28 22:22:42|2018-10-01 00:11:16|\n",
      "|     9|2018-09-30 18:20:30|2018-10-01 00:11:18|\n",
      "|     9|2018-09-30 18:20:30|2018-10-01 00:14:46|\n",
      "|    30|2018-09-28 22:22:42|2018-10-01 00:14:59|\n",
      "|    30|2018-09-28 22:22:42|2018-10-01 00:15:05|\n",
      "|    30|2018-09-28 22:22:42|2018-10-01 00:18:04|\n",
      "|     9|2018-09-30 18:20:30|2018-10-01 00:19:06|\n",
      "|     9|2018-09-30 18:20:30|2018-10-01 00:19:10|\n",
      "|    30|2018-09-28 22:22:42|2018-10-01 00:20:18|\n",
      "|     9|2018-09-30 18:20:30|2018-10-01 00:22:55|\n",
      "|     9|2018-09-30 18:20:30|2018-10-01 00:22:56|\n",
      "|    30|2018-09-28 22:22:42|2018-10-01 00:24:01|\n",
      "|     9|2018-09-30 18:20:30|2018-10-01 00:26:16|\n",
      "|    74|2018-09-19 13:53:39|2018-10-01 00:27:48|\n",
      "|    30|2018-09-28 22:22:42|2018-10-01 00:28:07|\n",
      "|     9|2018-09-30 18:20:30|2018-10-01 00:29:04|\n",
      "+------+-------------------+-------------------+\n",
      "only showing top 20 rows\n",
      "\n"
     ]
    }
   ],
   "source": [
    "#Feature 11: Lifetime of users on the platform. If cancelled, that will be their final event\n",
    "#Start date will be the reigistration timestamp\n",
    "lifetime_feat_df=sparkify_df.select(\"userId\",\"registration_ts\",\"event_ts\")\n",
    "lifetime_feat_df.show()"
   ]
  },
  {
   "cell_type": "code",
   "execution_count": 61,
   "metadata": {},
   "outputs": [
    {
     "name": "stdout",
     "output_type": "stream",
     "text": [
      "+------+-------------------+-------------------+--------+\n",
      "|userId|    registration_ts|           event_ts|lifetime|\n",
      "+------+-------------------+-------------------+--------+\n",
      "|    30|2018-09-28 22:22:42|2018-10-01 00:01:57|       3|\n",
      "|     9|2018-09-30 18:20:30|2018-10-01 00:03:00|       1|\n",
      "|    30|2018-09-28 22:22:42|2018-10-01 00:06:34|       3|\n",
      "|     9|2018-09-30 18:20:30|2018-10-01 00:06:56|       1|\n",
      "|    30|2018-09-28 22:22:42|2018-10-01 00:11:16|       3|\n",
      "|     9|2018-09-30 18:20:30|2018-10-01 00:11:18|       1|\n",
      "|     9|2018-09-30 18:20:30|2018-10-01 00:14:46|       1|\n",
      "|    30|2018-09-28 22:22:42|2018-10-01 00:14:59|       3|\n",
      "|    30|2018-09-28 22:22:42|2018-10-01 00:15:05|       3|\n",
      "|    30|2018-09-28 22:22:42|2018-10-01 00:18:04|       3|\n",
      "|     9|2018-09-30 18:20:30|2018-10-01 00:19:06|       1|\n",
      "|     9|2018-09-30 18:20:30|2018-10-01 00:19:10|       1|\n",
      "|    30|2018-09-28 22:22:42|2018-10-01 00:20:18|       3|\n",
      "|     9|2018-09-30 18:20:30|2018-10-01 00:22:55|       1|\n",
      "|     9|2018-09-30 18:20:30|2018-10-01 00:22:56|       1|\n",
      "|    30|2018-09-28 22:22:42|2018-10-01 00:24:01|       3|\n",
      "|     9|2018-09-30 18:20:30|2018-10-01 00:26:16|       1|\n",
      "|    74|2018-09-19 13:53:39|2018-10-01 00:27:48|      12|\n",
      "|    30|2018-09-28 22:22:42|2018-10-01 00:28:07|       3|\n",
      "|     9|2018-09-30 18:20:30|2018-10-01 00:29:04|       1|\n",
      "+------+-------------------+-------------------+--------+\n",
      "only showing top 20 rows\n",
      "\n"
     ]
    }
   ],
   "source": [
    "lifetime_feat_df = lifetime_feat_df\\\n",
    "                .withColumn(\"lifetime\",F.datediff(F.col(\"event_ts\"),F.col(\"registration_ts\")))\n",
    "lifetime_feat_df.show()"
   ]
  },
  {
   "cell_type": "code",
   "execution_count": 62,
   "metadata": {},
   "outputs": [
    {
     "name": "stdout",
     "output_type": "stream",
     "text": [
      "+------+-------------+\n",
      "|userId|user_lifetime|\n",
      "+------+-------------+\n",
      "|   148|           70|\n",
      "|   137|          124|\n",
      "|    85|          109|\n",
      "|    65|           71|\n",
      "|200001|           16|\n",
      "|    53|           53|\n",
      "|   133|           40|\n",
      "|100003|           23|\n",
      "|200021|           71|\n",
      "|    78|           61|\n",
      "|100007|          115|\n",
      "|300011|           62|\n",
      "|   108|           62|\n",
      "|   155|           24|\n",
      "|    34|           71|\n",
      "|   101|           54|\n",
      "|   126|           62|\n",
      "|   115|           75|\n",
      "|    81|           98|\n",
      "|100005|           85|\n",
      "+------+-------------+\n",
      "only showing top 20 rows\n",
      "\n"
     ]
    }
   ],
   "source": [
    "lifetime_feat_df=lifetime_feat_df.groupBy(\"userId\")\\\n",
    "                .agg({\"lifetime\":\"max\"})\\\n",
    "                .withColumnRenamed(\"max(lifetime)\", \"user_lifetime\")\n",
    "lifetime_feat_df.show()"
   ]
  },
  {
   "cell_type": "markdown",
   "metadata": {},
   "source": [
    "Before joining the dataframes for our final dataset, lets summarize our features:\n",
    "- Feature 1: user gender\n",
    "- Feature 2: total time spent on the platform (sum of session length)\n",
    "- Feature 3: average length of session\n",
    "- Feature 4: total number of songs listened to per user\n",
    "- Feature 5: average number of songs listened to per user per session\n",
    "- Feature 6: Number of friends added\n",
    "- Feature 7: Number of songs added to playlist\n",
    "- Feature 8: Number of songs liked\n",
    "- Feature 9: Number of songs disliked\n",
    "- Feature 10: Number of artists listened to\n",
    "- Feature 11: Lifetime of users on the platform"
   ]
  },
  {
   "cell_type": "code",
   "execution_count": 63,
   "metadata": {},
   "outputs": [
    {
     "name": "stdout",
     "output_type": "stream",
     "text": [
      "+------+------+--------------------+------------------+-----------+---------------------+-------------+--------------+-----------+--------------+-----+-------------+\n",
      "|userId|gender|total_session_length|avg_session_length|total_songs|avg_songs_per_session|total_friends|playlist_songs|songs_liked|songs_disliked|count|user_lifetime|\n",
      "+------+------+--------------------+------------------+-----------+---------------------+-------------+--------------+-----------+--------------+-----+-------------+\n",
      "|   148|     0|   97796.86112999993|188.79702920849408|        398|                   33|            7|             5|         28|             3|  350|           70|\n",
      "|    85|     0|    909088.972689999|208.02951320137277|       3616|                   90|           58|           108|        192|            38| 2124|          109|\n",
      "|   137|     0|   38385.87630999999|183.66447995215307|        154|                   51|            8|             4|          8|             1|  143|          124|\n",
      "|    65|     0|   529357.9054199992|  208.080937665094|       2113|                   96|           53|            68|        111|            17| 1377|           71|\n",
      "|    53|     0|   431131.0810900001|208.88133773740316|       1746|                   83|           25|            46|         69|            16| 1198|           53|\n",
      "|200021|     1|  300718.15056000033|200.21181794940102|       1227|                   77|           19|            30|         55|            35|  908|           71|\n",
      "|    78|     1|   62494.42193999997|192.88401833333324|        254|                   28|            2|             9|         11|             3|  226|           61|\n",
      "|100007|     1|  104495.32492000007|200.95254792307705|        423|                   47|           17|             9|         19|             6|  357|          115|\n",
      "|300011|     1|  1149641.2196899974| 200.5654605181433|       4619|                   63|           93|           146|        437|            41| 2491|           62|\n",
      "|   108|     1|   156542.7986499999| 204.8989511125653|        633|                  106|           15|            15|         20|             6|  509|           62|\n",
      "|   155|     1|         198779.2919| 198.3825268463074|        820|                  137|           11|            24|         58|             3|  643|           24|\n",
      "|   101|     0|   447464.0146699989|208.21964386691434|       1797|                  180|           29|            61|         86|            16| 1241|           54|\n",
      "|   115|     1|  431447.61070999934|207.82640207610757|       1737|                  174|           39|            42|         92|            24| 1212|           75|\n",
      "|   126|     0|   648839.6086000006|209.16815235332064|       2577|                   89|           33|            72|        135|            21| 1643|           62|\n",
      "|    81|     0|        497847.84291|  213.211067627409|       1974|                  104|           23|            51|         94|            14| 1307|           98|\n",
      "|100005|     0|   37037.12201000001|171.46815745370372|        154|                   39|            3|             3|          7|             3|  149|           85|\n",
      "|300010|     0|   65846.45058000002|187.59672529914536|        263|                   38|            8|             7|         21|             1|  244|           74|\n",
      "|    28|     1|  364840.63896999933|204.85156595732695|       1457|                   77|           20|            50|         79|            22| 1075|           45|\n",
      "|300017|     1|   897406.9802100015|202.66643636178895|       3632|                   60|           63|           113|        303|            28| 2070|           74|\n",
      "|    76|     0|   53229.90548999999|195.69818194852937|        212|                   35|            3|             4|         13|             2|  196|           57|\n",
      "+------+------+--------------------+------------------+-----------+---------------------+-------------+--------------+-----------+--------------+-----+-------------+\n",
      "only showing top 20 rows\n",
      "\n"
     ]
    }
   ],
   "source": [
    "features_df = gender_feat_df.join(total_len_feat_df, 'userId', 'inner')\\\n",
    "                .join(avg_session_len_feat_df, 'userId', 'inner')\\\n",
    "                .join(total_songs_feat_df, 'userId','inner')\\\n",
    "                .join(avg_songs_per_session_feat_df, 'userId', 'inner')\\\n",
    "                .join(total_friends_feat_df, 'userId', 'inner')\\\n",
    "                .join(playlist_feat_df, 'userId', 'inner')\\\n",
    "                .join(liked_feat_df, 'userId', 'inner')\\\n",
    "                .join(disliked_feat_df, 'userId', 'inner')\\\n",
    "                .join(artists_feat_df, 'userId', 'inner')\\\n",
    "                .join(lifetime_feat_df, 'userId', 'inner')\n",
    "features_df.show()"
   ]
  },
  {
   "cell_type": "code",
   "execution_count": 64,
   "metadata": {},
   "outputs": [
    {
     "name": "stdout",
     "output_type": "stream",
     "text": [
      "+------+----------+\n",
      "|userId|churn_user|\n",
      "+------+----------+\n",
      "|   148|         0|\n",
      "|    85|         0|\n",
      "|   137|         0|\n",
      "|    65|         0|\n",
      "|200001|         1|\n",
      "|    53|         1|\n",
      "|   133|         0|\n",
      "|100003|         1|\n",
      "|200021|         1|\n",
      "|    78|         0|\n",
      "|100007|         1|\n",
      "|300011|         0|\n",
      "|   108|         0|\n",
      "|   155|         0|\n",
      "|    34|         0|\n",
      "|   101|         1|\n",
      "|   115|         0|\n",
      "|   126|         0|\n",
      "|    81|         0|\n",
      "|100005|         1|\n",
      "+------+----------+\n",
      "only showing top 20 rows\n",
      "\n"
     ]
    }
   ],
   "source": [
    "# Finally, we need to our target, which is whether a user churned or not\n",
    "target_df=sparkify_df.select(\"userId\",\"churn_user\").dropDuplicates()\n",
    "target_df.show()"
   ]
  },
  {
   "cell_type": "code",
   "execution_count": 65,
   "metadata": {},
   "outputs": [
    {
     "name": "stdout",
     "output_type": "stream",
     "text": [
      "+------+--------------------+------------------+-----------+---------------------+-------------+--------------+-----------+--------------+-----+-------------+----------+\n",
      "|gender|total_session_length|avg_session_length|total_songs|avg_songs_per_session|total_friends|playlist_songs|songs_liked|songs_disliked|count|user_lifetime|churn_user|\n",
      "+------+--------------------+------------------+-----------+---------------------+-------------+--------------+-----------+--------------+-----+-------------+----------+\n",
      "|     0|   97796.86112999993|188.79702920849408|        398|                   33|            7|             5|         28|             3|  350|           70|         0|\n",
      "|     0|    909088.972689999|208.02951320137277|       3616|                   90|           58|           108|        192|            38| 2124|          109|         0|\n",
      "|     0|   38385.87630999999|183.66447995215307|        154|                   51|            8|             4|          8|             1|  143|          124|         0|\n",
      "|     0|   529357.9054199992|  208.080937665094|       2113|                   96|           53|            68|        111|            17| 1377|           71|         0|\n",
      "|     0|   431131.0810900001|208.88133773740316|       1746|                   83|           25|            46|         69|            16| 1198|           53|         1|\n",
      "|     1|  300718.15056000033|200.21181794940102|       1227|                   77|           19|            30|         55|            35|  908|           71|         1|\n",
      "|     1|   62494.42193999997|192.88401833333324|        254|                   28|            2|             9|         11|             3|  226|           61|         0|\n",
      "|     1|  104495.32492000007|200.95254792307705|        423|                   47|           17|             9|         19|             6|  357|          115|         1|\n",
      "|     1|  1149641.2196899974| 200.5654605181433|       4619|                   63|           93|           146|        437|            41| 2491|           62|         0|\n",
      "|     1|   156542.7986499999| 204.8989511125653|        633|                  106|           15|            15|         20|             6|  509|           62|         0|\n",
      "|     1|         198779.2919| 198.3825268463074|        820|                  137|           11|            24|         58|             3|  643|           24|         0|\n",
      "|     0|   447464.0146699989|208.21964386691434|       1797|                  180|           29|            61|         86|            16| 1241|           54|         1|\n",
      "|     1|  431447.61070999934|207.82640207610757|       1737|                  174|           39|            42|         92|            24| 1212|           75|         0|\n",
      "|     0|   648839.6086000006|209.16815235332064|       2577|                   89|           33|            72|        135|            21| 1643|           62|         0|\n",
      "|     0|        497847.84291|  213.211067627409|       1974|                  104|           23|            51|         94|            14| 1307|           98|         0|\n",
      "|     0|   37037.12201000001|171.46815745370372|        154|                   39|            3|             3|          7|             3|  149|           85|         1|\n",
      "|     0|   65846.45058000002|187.59672529914536|        263|                   38|            8|             7|         21|             1|  244|           74|         0|\n",
      "|     1|  364840.63896999933|204.85156595732695|       1457|                   77|           20|            50|         79|            22| 1075|           45|         1|\n",
      "|     1|   897406.9802100015|202.66643636178895|       3632|                   60|           63|           113|        303|            28| 2070|           74|         0|\n",
      "|     0|   53229.90548999999|195.69818194852937|        212|                   35|            3|             4|         13|             2|  196|           57|         0|\n",
      "+------+--------------------+------------------+-----------+---------------------+-------------+--------------+-----------+--------------+-----+-------------+----------+\n",
      "only showing top 20 rows\n",
      "\n"
     ]
    }
   ],
   "source": [
    "#Join target to our features\n",
    "final_df=features_df.join(target_df, 'userId', 'inner').drop('userId')\n",
    "final_df.show()"
   ]
  },
  {
   "cell_type": "code",
   "execution_count": 66,
   "metadata": {},
   "outputs": [
    {
     "name": "stdout",
     "output_type": "stream",
     "text": [
      "+------+--------------------+------------------+-----------+---------------------+-------------+--------------+-----------+--------------+-----+-------------+----------+\n",
      "|gender|total_session_length|avg_session_length|total_songs|avg_songs_per_session|total_friends|playlist_songs|songs_liked|songs_disliked|count|user_lifetime|churn_user|\n",
      "+------+--------------------+------------------+-----------+---------------------+-------------+--------------+-----------+--------------+-----+-------------+----------+\n",
      "|     0|                   0|                 0|          0|                    0|            0|             0|          0|             0|    0|            0|         0|\n",
      "+------+--------------------+------------------+-----------+---------------------+-------------+--------------+-----------+--------------+-----+-------------+----------+\n",
      "\n"
     ]
    }
   ],
   "source": [
    "#Check for any missing values\n",
    "final_df.select([count(when(isnan(c) | col(c).isNull(), c)).alias(c) for c in final_df.columns]).show()"
   ]
  },
  {
   "cell_type": "code",
   "execution_count": 67,
   "metadata": {},
   "outputs": [
    {
     "name": "stdout",
     "output_type": "stream",
     "text": [
      "root\n",
      " |-- gender: string (nullable = true)\n",
      " |-- total_session_length: double (nullable = true)\n",
      " |-- avg_session_length: double (nullable = true)\n",
      " |-- total_songs: long (nullable = false)\n",
      " |-- avg_songs_per_session: integer (nullable = true)\n",
      " |-- total_friends: long (nullable = false)\n",
      " |-- playlist_songs: long (nullable = false)\n",
      " |-- songs_liked: long (nullable = false)\n",
      " |-- songs_disliked: long (nullable = false)\n",
      " |-- count: long (nullable = false)\n",
      " |-- user_lifetime: integer (nullable = true)\n",
      " |-- churn_user: integer (nullable = true)\n",
      "\n"
     ]
    }
   ],
   "source": [
    "#Check that all datatypes are numeric\n",
    "final_df.printSchema()"
   ]
  },
  {
   "cell_type": "code",
   "execution_count": 68,
   "metadata": {},
   "outputs": [],
   "source": [
    "#Cast gender to integer type\n",
    "final_df = final_df.withColumn(\"gender\", final_df [\"gender\"].cast(IntegerType()))"
   ]
  },
  {
   "cell_type": "code",
   "execution_count": 69,
   "metadata": {},
   "outputs": [
    {
     "name": "stdout",
     "output_type": "stream",
     "text": [
      "root\n",
      " |-- gender: integer (nullable = true)\n",
      " |-- total_session_length: double (nullable = true)\n",
      " |-- avg_session_length: double (nullable = true)\n",
      " |-- total_songs: long (nullable = false)\n",
      " |-- avg_songs_per_session: integer (nullable = true)\n",
      " |-- total_friends: long (nullable = false)\n",
      " |-- playlist_songs: long (nullable = false)\n",
      " |-- songs_liked: long (nullable = false)\n",
      " |-- songs_disliked: long (nullable = false)\n",
      " |-- count: long (nullable = false)\n",
      " |-- user_lifetime: integer (nullable = true)\n",
      " |-- churn_user: integer (nullable = true)\n",
      "\n"
     ]
    }
   ],
   "source": [
    "final_df.printSchema()"
   ]
  },
  {
   "cell_type": "markdown",
   "metadata": {},
   "source": [
    "### Vectorize and scale data"
   ]
  },
  {
   "cell_type": "code",
   "execution_count": 70,
   "metadata": {},
   "outputs": [
    {
     "data": {
      "text/plain": [
       "['gender',\n",
       " 'total_session_length',\n",
       " 'avg_session_length',\n",
       " 'total_songs',\n",
       " 'avg_songs_per_session',\n",
       " 'total_friends',\n",
       " 'playlist_songs',\n",
       " 'songs_liked',\n",
       " 'songs_disliked',\n",
       " 'count',\n",
       " 'user_lifetime',\n",
       " 'churn_user']"
      ]
     },
     "execution_count": 70,
     "metadata": {},
     "output_type": "execute_result"
    }
   ],
   "source": [
    "#Get names of all columns\n",
    "final_df.columns"
   ]
  },
  {
   "cell_type": "code",
   "execution_count": 71,
   "metadata": {},
   "outputs": [
    {
     "name": "stdout",
     "output_type": "stream",
     "text": [
      "+--------------------+----------+\n",
      "|      final_features|churn_user|\n",
      "+--------------------+----------+\n",
      "|[0.0,0.3503396806...|         0|\n",
      "|[0.0,3.2566478794...|         0|\n",
      "|[0.0,0.1375105038...|         0|\n",
      "|[0.0,1.8963295694...|         0|\n",
      "|[0.0,1.5444496228...|         1|\n",
      "|[1.99749598442950...|         1|\n",
      "|[1.99749598442950...|         0|\n",
      "|[1.99749598442950...|         1|\n",
      "|[1.99749598442950...|         0|\n",
      "|[1.99749598442950...|         0|\n",
      "|[1.99749598442950...|         0|\n",
      "|[0.0,1.6029594223...|         1|\n",
      "|[1.99749598442950...|         0|\n",
      "|[0.0,2.3243512999...|         0|\n",
      "|[0.0,1.7834504328...|         0|\n",
      "|[0.0,0.1326788339...|         1|\n",
      "|[0.0,0.2358830764...|         0|\n",
      "|[1.99749598442950...|         1|\n",
      "|[1.99749598442950...|         0|\n",
      "|[0.0,0.1906865708...|         0|\n",
      "+--------------------+----------+\n",
      "only showing top 20 rows\n",
      "\n"
     ]
    }
   ],
   "source": [
    "feature_columns=['gender',\n",
    " 'total_session_length',\n",
    " 'avg_session_length',\n",
    " 'total_songs',\n",
    " 'avg_songs_per_session',\n",
    " 'total_friends',\n",
    " 'playlist_songs',\n",
    " 'songs_liked',\n",
    " 'songs_disliked',\n",
    " 'count',\n",
    " 'user_lifetime'\n",
    "]\n",
    "#churn_user is our target column, so will not be vectorized\n",
    "\n",
    "\n",
    "#Vectorize feature columns\n",
    "vector_assembler=VectorAssembler(inputCols=feature_columns, outputCol=\"features_vector\")\n",
    "transformed_df=vector_assembler.transform(final_df)\n",
    "\n",
    "#Scale the feature vector column\n",
    "scaler=StandardScaler(inputCol=\"features_vector\", outputCol=\"final_features\", withStd=True)\n",
    "std_scaler=scaler.fit(transformed_df)\n",
    "data=std_scaler.transform(transformed_df)\n",
    "\n",
    "#Select only columns we will be using\n",
    "data=data.select(\"final_features\",\"churn_user\")\n",
    "data.show()\n"
   ]
  },
  {
   "cell_type": "code",
   "execution_count": 72,
   "metadata": {},
   "outputs": [],
   "source": [
    "data=data.withColumnRenamed(\"churn_user\", \"label\")\n",
    "data=data.withColumnRenamed(\"final_features\", \"features\")"
   ]
  },
  {
   "cell_type": "markdown",
   "metadata": {},
   "source": [
    "# Modeling\n",
    "Split the full dataset into train, test, and validation sets. Test out several of the machine learning methods you learned. Evaluate the accuracy of the various models, tuning parameters as necessary. Determine your winning model based on test accuracy and report results on the validation set. Since the churned users are a fairly small subset, I suggest using F1 score as the metric to optimize."
   ]
  },
  {
   "cell_type": "markdown",
   "metadata": {},
   "source": [
    "### Metrics\n",
    "To assess our models, we will look at accuracy and F1 score.\n",
    "\n",
    "A True Positive will be when a user is predicted to churn, and did in fact churn.\n",
    "\n",
    "A False Positive will be when a user is predicted to churn, but did not churn (they remained a paying user)\n",
    "\n",
    "A True Negative is when a user is not predicted to churn, and they remain subscribed\n",
    "\n",
    "A False Negative is when a user is predicted not to churn, but they do in fact cancel.\n",
    "\n",
    "The cost of each of these will depend on which measures Sparkify wants to put in place to retain users. For example, if discounted rates are offered to false positives, that will waste money.\n",
    "\n",
    "For now we will assume false negatives will have the highest cost, since nothing is done to retain these users and they are \"lost forever\". For that reason we will focus on F1 score, accuracy and recall when measuring our models. Recall calculates how many of the True Positives the model captures. The recall rate is penalized whenever a false negative is predicted."
   ]
  },
  {
   "cell_type": "markdown",
   "metadata": {},
   "source": [
    "### Split Data\n"
   ]
  },
  {
   "cell_type": "code",
   "execution_count": 73,
   "metadata": {},
   "outputs": [],
   "source": [
    "(training_data, test_data) = data.randomSplit([0.8,0.2])"
   ]
  },
  {
   "cell_type": "code",
   "execution_count": 74,
   "metadata": {},
   "outputs": [
    {
     "data": {
      "text/plain": [
       "150"
      ]
     },
     "execution_count": 74,
     "metadata": {},
     "output_type": "execute_result"
    }
   ],
   "source": [
    "#Training set size\n",
    "training_data.count()"
   ]
  },
  {
   "cell_type": "code",
   "execution_count": 75,
   "metadata": {},
   "outputs": [
    {
     "data": {
      "text/plain": [
       "42"
      ]
     },
     "execution_count": 75,
     "metadata": {},
     "output_type": "execute_result"
    }
   ],
   "source": [
    "#Testing set size\n",
    "test_data.count()"
   ]
  },
  {
   "cell_type": "markdown",
   "metadata": {},
   "source": [
    "### Random Forest Classifier"
   ]
  },
  {
   "cell_type": "code",
   "execution_count": 76,
   "metadata": {},
   "outputs": [
    {
     "data": {
      "text/plain": [
       "[0.8320589463506531]"
      ]
     },
     "execution_count": 76,
     "metadata": {},
     "output_type": "execute_result"
    }
   ],
   "source": [
    "rf = RandomForestClassifier(labelCol=\"label\", \n",
    "                            featuresCol=\"features\",\n",
    "                            maxDepth=5)\n",
    "\n",
    "\n",
    "f1_eval=MulticlassClassificationEvaluator(metricName = \"f1\")\n",
    "param_grid = ParamGridBuilder().build()\n",
    "rf_cross_validator = CrossValidator(estimator = rf, estimatorParamMaps = param_grid,\\\n",
    "                              evaluator = f1_eval, numFolds = 2)\n",
    "\n",
    "rf_cv_model = rf_cross_validator.fit(training_data)\n",
    "rf_cv_model.avgMetrics"
   ]
  },
  {
   "cell_type": "code",
   "execution_count": 77,
   "metadata": {},
   "outputs": [],
   "source": [
    "res_rf = rf_cv_model.transform(test_data)\n",
    "#Obtain and print evaluation metrics for Random Forest Classifier\n",
    "evaluator = MulticlassClassificationEvaluator(predictionCol = \"prediction\")\n",
    "\n",
    "#Append the metrics to a list\n",
    "rf_metrics=[\"Random Forest Classifier\"]\n",
    "rf_metrics.append(round((evaluator.evaluate(res_rf, {evaluator.metricName : \"accuracy\"})),3))\n",
    "rf_metrics.append(round((evaluator.evaluate(res_rf, {evaluator.metricName : \"weightedRecall\"})),3))\n",
    "rf_metrics.append(round((evaluator.evaluate(res_rf, {evaluator.metricName : \"f1\"})),3))\n",
    "\n",
    "\n"
   ]
  },
  {
   "cell_type": "code",
   "execution_count": 78,
   "metadata": {},
   "outputs": [],
   "source": [
    "#Append the metrics to a list\n",
    "rf_metrics=[\"Random Forest Classifier\"]\n",
    "rf_metrics.append(round((evaluator.evaluate(res_rf, {evaluator.metricName : \"accuracy\"})),3))\n",
    "rf_metrics.append(round((evaluator.evaluate(res_rf, {evaluator.metricName : \"weightedRecall\"})),3))\n",
    "rf_metrics.append(round((evaluator.evaluate(res_rf, {evaluator.metricName : \"f1\"})),3))"
   ]
  },
  {
   "cell_type": "markdown",
   "metadata": {},
   "source": [
    "### Logistic Regression Model"
   ]
  },
  {
   "cell_type": "code",
   "execution_count": 79,
   "metadata": {},
   "outputs": [
    {
     "data": {
      "text/plain": [
       "[0.755811224707029]"
      ]
     },
     "execution_count": 79,
     "metadata": {},
     "output_type": "execute_result"
    }
   ],
   "source": [
    "lr = LogisticRegression(labelCol=\"label\", \n",
    "                            featuresCol=\"features\",\n",
    "                            maxIter=10)\n",
    "\n",
    "\n",
    "f1_eval=MulticlassClassificationEvaluator(metricName = \"f1\")\n",
    "param_grid = ParamGridBuilder().build()\n",
    "lr_cross_validator = CrossValidator(estimator = lr, estimatorParamMaps = param_grid,\\\n",
    "                              evaluator = f1_eval, numFolds = 2)\n",
    "\n",
    "lr_cv_model = lr_cross_validator.fit(training_data)\n",
    "lr_cv_model.avgMetrics"
   ]
  },
  {
   "cell_type": "code",
   "execution_count": 80,
   "metadata": {},
   "outputs": [],
   "source": [
    "res_lr = lr_cv_model.transform(test_data)\n",
    "#Obtain and print evaluation metrics for Random Forest Classifier\n",
    "evaluator = MulticlassClassificationEvaluator(predictionCol = \"prediction\")\n",
    "\n",
    "#Append the metrics to a list\n",
    "lr_metrics=[\"Linear Regression\"]\n",
    "lr_metrics.append(round((evaluator.evaluate(res_lr, {evaluator.metricName : \"accuracy\"})),3))\n",
    "lr_metrics.append(round((evaluator.evaluate(res_lr, {evaluator.metricName : \"weightedRecall\"})),3))\n",
    "lr_metrics.append(round((evaluator.evaluate(res_lr, {evaluator.metricName : \"f1\"})),3))"
   ]
  },
  {
   "cell_type": "markdown",
   "metadata": {},
   "source": [
    "### Gradient-boosted Tree classifier Model"
   ]
  },
  {
   "cell_type": "code",
   "execution_count": 81,
   "metadata": {},
   "outputs": [
    {
     "data": {
      "text/plain": [
       "[0.7390773425891417]"
      ]
     },
     "execution_count": 81,
     "metadata": {},
     "output_type": "execute_result"
    }
   ],
   "source": [
    "gb = GBTClassifier(labelCol=\"label\", \n",
    "                            featuresCol=\"features\",\n",
    "                            maxIter=10)\n",
    "\n",
    "\n",
    "f1_eval=MulticlassClassificationEvaluator(metricName = \"f1\")\n",
    "param_grid = ParamGridBuilder().build()\n",
    "gb_cross_validator = CrossValidator(estimator = gb, estimatorParamMaps = param_grid,\\\n",
    "                              evaluator = f1_eval, numFolds = 2)\n",
    "\n",
    "gb_cv_model = gb_cross_validator.fit(training_data)\n",
    "gb_cv_model.avgMetrics"
   ]
  },
  {
   "cell_type": "code",
   "execution_count": 82,
   "metadata": {},
   "outputs": [],
   "source": [
    "res_gb = gb_cv_model.transform(test_data)\n",
    "#Obtain and print evaluation metrics for Random Forest Classifier\n",
    "evaluator = MulticlassClassificationEvaluator(predictionCol = \"prediction\")\n",
    "\n",
    "#Append the metrics to a list\n",
    "gb_metrics=[\"Gradient-boosted Tree classifier Model\"]\n",
    "gb_metrics.append(round((evaluator.evaluate(res_gb, {evaluator.metricName : \"accuracy\"})),3))\n",
    "gb_metrics.append(round((evaluator.evaluate(res_gb, {evaluator.metricName : \"weightedRecall\"})),3))\n",
    "gb_metrics.append(round((evaluator.evaluate(res_gb, {evaluator.metricName : \"f1\"})),3))"
   ]
  },
  {
   "cell_type": "code",
   "execution_count": 83,
   "metadata": {},
   "outputs": [],
   "source": [
    "#Put all our results into a dataframe to compare\n",
    "metrics_list=[]\n",
    "metrics_list.append(gb_metrics)\n",
    "metrics_list.append(lr_metrics)\n",
    "metrics_list.append(rf_metrics)\n",
    "df = pd.DataFrame (metrics_list, columns = [\"Model\",\"Accuracy\",\"weighted Recall\",\"F1 Score\"])"
   ]
  },
  {
   "cell_type": "code",
   "execution_count": 84,
   "metadata": {},
   "outputs": [
    {
     "data": {
      "text/html": [
       "<div>\n",
       "<style scoped>\n",
       "    .dataframe tbody tr th:only-of-type {\n",
       "        vertical-align: middle;\n",
       "    }\n",
       "\n",
       "    .dataframe tbody tr th {\n",
       "        vertical-align: top;\n",
       "    }\n",
       "\n",
       "    .dataframe thead th {\n",
       "        text-align: right;\n",
       "    }\n",
       "</style>\n",
       "<table border=\"1\" class=\"dataframe\">\n",
       "  <thead>\n",
       "    <tr style=\"text-align: right;\">\n",
       "      <th></th>\n",
       "      <th>Model</th>\n",
       "      <th>Accuracy</th>\n",
       "      <th>weighted Recall</th>\n",
       "      <th>F1 Score</th>\n",
       "    </tr>\n",
       "  </thead>\n",
       "  <tbody>\n",
       "    <tr>\n",
       "      <th>0</th>\n",
       "      <td>Gradient-boosted Tree classifier Model</td>\n",
       "      <td>0.643</td>\n",
       "      <td>0.643</td>\n",
       "      <td>0.660</td>\n",
       "    </tr>\n",
       "    <tr>\n",
       "      <th>1</th>\n",
       "      <td>Linear Regression</td>\n",
       "      <td>0.738</td>\n",
       "      <td>0.738</td>\n",
       "      <td>0.664</td>\n",
       "    </tr>\n",
       "    <tr>\n",
       "      <th>2</th>\n",
       "      <td>Random Forest Classifier</td>\n",
       "      <td>0.786</td>\n",
       "      <td>0.786</td>\n",
       "      <td>0.762</td>\n",
       "    </tr>\n",
       "  </tbody>\n",
       "</table>\n",
       "</div>"
      ],
      "text/plain": [
       "                                    Model  Accuracy  weighted Recall  F1 Score\n",
       "0  Gradient-boosted Tree classifier Model     0.643            0.643     0.660\n",
       "1                       Linear Regression     0.738            0.738     0.664\n",
       "2                Random Forest Classifier     0.786            0.786     0.762"
      ]
     },
     "execution_count": 84,
     "metadata": {},
     "output_type": "execute_result"
    }
   ],
   "source": [
    "df"
   ]
  },
  {
   "cell_type": "markdown",
   "metadata": {},
   "source": [
    "### Grid Search Parameter Tuning"
   ]
  },
  {
   "cell_type": "code",
   "execution_count": 85,
   "metadata": {},
   "outputs": [
    {
     "data": {
      "text/plain": [
       "[0.7905586297882572,\n",
       " 0.8110201138526887,\n",
       " 0.8193081706896406,\n",
       " 0.8193081706896406,\n",
       " 0.8007626862049041,\n",
       " 0.7800337262675685,\n",
       " 0.837207848425384,\n",
       " 0.8156555919259527,\n",
       " 0.8186702407806419,\n",
       " 0.7905586297882572,\n",
       " 0.8176558492733808,\n",
       " 0.8110201138526887,\n",
       " 0.8193081706896406,\n",
       " 0.8072083719052319,\n",
       " 0.7800337262675685,\n",
       " 0.837207848425384,\n",
       " 0.7977559141902094,\n",
       " 0.8254120639748166,\n",
       " 0.7905586297882572,\n",
       " 0.8176558492733808,\n",
       " 0.8110201138526887,\n",
       " 0.8193081706896406,\n",
       " 0.8072083719052319,\n",
       " 0.7800337262675685,\n",
       " 0.837207848425384,\n",
       " 0.7977559141902094,\n",
       " 0.8254120639748166,\n",
       " 0.7905586297882572,\n",
       " 0.8176558492733808,\n",
       " 0.8110201138526887,\n",
       " 0.8193081706896406,\n",
       " 0.8072083719052319,\n",
       " 0.7800337262675685,\n",
       " 0.837207848425384,\n",
       " 0.7977559141902094,\n",
       " 0.8254120639748166,\n",
       " 0.7905586297882572,\n",
       " 0.8176558492733808,\n",
       " 0.8110201138526887,\n",
       " 0.8193081706896406,\n",
       " 0.8072083719052319,\n",
       " 0.7800337262675685,\n",
       " 0.837207848425384,\n",
       " 0.7977559141902094,\n",
       " 0.8254120639748166]"
      ]
     },
     "execution_count": 85,
     "metadata": {},
     "output_type": "execute_result"
    }
   ],
   "source": [
    "#We will attempt to improve the performance of the random forest classifier\n",
    "rf_grid = RandomForestClassifier(labelCol=\"label\", \n",
    "                            featuresCol=\"features\")\n",
    "\n",
    "param_grid_rf = ParamGridBuilder()\\\n",
    "                .addGrid(rf_grid.maxDepth, [5, 8, 12, 20,24]) \\\n",
    "                .addGrid(rf_grid.seed, [12,24,42]) \\\n",
    "                .addGrid(rf_grid.numTrees, [20,24,28]).build()\n",
    "\n",
    "f1_eval = MulticlassClassificationEvaluator(metricName = \"f1\")\n",
    "\n",
    "cross_val_rf_grid = CrossValidator(estimator = rf_grid, estimatorParamMaps = param_grid_rf,\\\n",
    "                                   evaluator = f1_eval, numFolds = 2)\n",
    "\n",
    "cv_model_rf_grid = cross_val_rf_grid.fit(training_data)\n",
    "cv_model_rf_grid.avgMetrics"
   ]
  },
  {
   "cell_type": "code",
   "execution_count": 86,
   "metadata": {},
   "outputs": [
    {
     "name": "stdout",
     "output_type": "stream",
     "text": [
      "[(0.7905586297882572, {Param(parent='RandomForestClassifier_3993ba3db8fc', name='maxDepth', doc='Maximum depth of the tree. (>= 0) E.g., depth 0 means 1 leaf node; depth 1 means 1 internal node + 2 leaf nodes.'): 5, Param(parent='RandomForestClassifier_3993ba3db8fc', name='seed', doc='random seed.'): 12, Param(parent='RandomForestClassifier_3993ba3db8fc', name='numTrees', doc='Number of trees to train (>= 1).'): 20}), (0.8110201138526887, {Param(parent='RandomForestClassifier_3993ba3db8fc', name='maxDepth', doc='Maximum depth of the tree. (>= 0) E.g., depth 0 means 1 leaf node; depth 1 means 1 internal node + 2 leaf nodes.'): 5, Param(parent='RandomForestClassifier_3993ba3db8fc', name='seed', doc='random seed.'): 12, Param(parent='RandomForestClassifier_3993ba3db8fc', name='numTrees', doc='Number of trees to train (>= 1).'): 24}), (0.8193081706896406, {Param(parent='RandomForestClassifier_3993ba3db8fc', name='maxDepth', doc='Maximum depth of the tree. (>= 0) E.g., depth 0 means 1 leaf node; depth 1 means 1 internal node + 2 leaf nodes.'): 5, Param(parent='RandomForestClassifier_3993ba3db8fc', name='seed', doc='random seed.'): 12, Param(parent='RandomForestClassifier_3993ba3db8fc', name='numTrees', doc='Number of trees to train (>= 1).'): 28}), (0.8193081706896406, {Param(parent='RandomForestClassifier_3993ba3db8fc', name='maxDepth', doc='Maximum depth of the tree. (>= 0) E.g., depth 0 means 1 leaf node; depth 1 means 1 internal node + 2 leaf nodes.'): 5, Param(parent='RandomForestClassifier_3993ba3db8fc', name='seed', doc='random seed.'): 24, Param(parent='RandomForestClassifier_3993ba3db8fc', name='numTrees', doc='Number of trees to train (>= 1).'): 20}), (0.8007626862049041, {Param(parent='RandomForestClassifier_3993ba3db8fc', name='maxDepth', doc='Maximum depth of the tree. (>= 0) E.g., depth 0 means 1 leaf node; depth 1 means 1 internal node + 2 leaf nodes.'): 5, Param(parent='RandomForestClassifier_3993ba3db8fc', name='seed', doc='random seed.'): 24, Param(parent='RandomForestClassifier_3993ba3db8fc', name='numTrees', doc='Number of trees to train (>= 1).'): 24}), (0.7800337262675685, {Param(parent='RandomForestClassifier_3993ba3db8fc', name='maxDepth', doc='Maximum depth of the tree. (>= 0) E.g., depth 0 means 1 leaf node; depth 1 means 1 internal node + 2 leaf nodes.'): 5, Param(parent='RandomForestClassifier_3993ba3db8fc', name='seed', doc='random seed.'): 24, Param(parent='RandomForestClassifier_3993ba3db8fc', name='numTrees', doc='Number of trees to train (>= 1).'): 28}), (0.837207848425384, {Param(parent='RandomForestClassifier_3993ba3db8fc', name='maxDepth', doc='Maximum depth of the tree. (>= 0) E.g., depth 0 means 1 leaf node; depth 1 means 1 internal node + 2 leaf nodes.'): 5, Param(parent='RandomForestClassifier_3993ba3db8fc', name='seed', doc='random seed.'): 42, Param(parent='RandomForestClassifier_3993ba3db8fc', name='numTrees', doc='Number of trees to train (>= 1).'): 20}), (0.8156555919259527, {Param(parent='RandomForestClassifier_3993ba3db8fc', name='maxDepth', doc='Maximum depth of the tree. (>= 0) E.g., depth 0 means 1 leaf node; depth 1 means 1 internal node + 2 leaf nodes.'): 5, Param(parent='RandomForestClassifier_3993ba3db8fc', name='seed', doc='random seed.'): 42, Param(parent='RandomForestClassifier_3993ba3db8fc', name='numTrees', doc='Number of trees to train (>= 1).'): 24}), (0.8186702407806419, {Param(parent='RandomForestClassifier_3993ba3db8fc', name='maxDepth', doc='Maximum depth of the tree. (>= 0) E.g., depth 0 means 1 leaf node; depth 1 means 1 internal node + 2 leaf nodes.'): 5, Param(parent='RandomForestClassifier_3993ba3db8fc', name='seed', doc='random seed.'): 42, Param(parent='RandomForestClassifier_3993ba3db8fc', name='numTrees', doc='Number of trees to train (>= 1).'): 28}), (0.7905586297882572, {Param(parent='RandomForestClassifier_3993ba3db8fc', name='maxDepth', doc='Maximum depth of the tree. (>= 0) E.g., depth 0 means 1 leaf node; depth 1 means 1 internal node + 2 leaf nodes.'): 8, Param(parent='RandomForestClassifier_3993ba3db8fc', name='seed', doc='random seed.'): 12, Param(parent='RandomForestClassifier_3993ba3db8fc', name='numTrees', doc='Number of trees to train (>= 1).'): 20}), (0.8176558492733808, {Param(parent='RandomForestClassifier_3993ba3db8fc', name='maxDepth', doc='Maximum depth of the tree. (>= 0) E.g., depth 0 means 1 leaf node; depth 1 means 1 internal node + 2 leaf nodes.'): 8, Param(parent='RandomForestClassifier_3993ba3db8fc', name='seed', doc='random seed.'): 12, Param(parent='RandomForestClassifier_3993ba3db8fc', name='numTrees', doc='Number of trees to train (>= 1).'): 24}), (0.8110201138526887, {Param(parent='RandomForestClassifier_3993ba3db8fc', name='maxDepth', doc='Maximum depth of the tree. (>= 0) E.g., depth 0 means 1 leaf node; depth 1 means 1 internal node + 2 leaf nodes.'): 8, Param(parent='RandomForestClassifier_3993ba3db8fc', name='seed', doc='random seed.'): 12, Param(parent='RandomForestClassifier_3993ba3db8fc', name='numTrees', doc='Number of trees to train (>= 1).'): 28}), (0.8193081706896406, {Param(parent='RandomForestClassifier_3993ba3db8fc', name='maxDepth', doc='Maximum depth of the tree. (>= 0) E.g., depth 0 means 1 leaf node; depth 1 means 1 internal node + 2 leaf nodes.'): 8, Param(parent='RandomForestClassifier_3993ba3db8fc', name='seed', doc='random seed.'): 24, Param(parent='RandomForestClassifier_3993ba3db8fc', name='numTrees', doc='Number of trees to train (>= 1).'): 20}), (0.8072083719052319, {Param(parent='RandomForestClassifier_3993ba3db8fc', name='maxDepth', doc='Maximum depth of the tree. (>= 0) E.g., depth 0 means 1 leaf node; depth 1 means 1 internal node + 2 leaf nodes.'): 8, Param(parent='RandomForestClassifier_3993ba3db8fc', name='seed', doc='random seed.'): 24, Param(parent='RandomForestClassifier_3993ba3db8fc', name='numTrees', doc='Number of trees to train (>= 1).'): 24}), (0.7800337262675685, {Param(parent='RandomForestClassifier_3993ba3db8fc', name='maxDepth', doc='Maximum depth of the tree. (>= 0) E.g., depth 0 means 1 leaf node; depth 1 means 1 internal node + 2 leaf nodes.'): 8, Param(parent='RandomForestClassifier_3993ba3db8fc', name='seed', doc='random seed.'): 24, Param(parent='RandomForestClassifier_3993ba3db8fc', name='numTrees', doc='Number of trees to train (>= 1).'): 28}), (0.837207848425384, {Param(parent='RandomForestClassifier_3993ba3db8fc', name='maxDepth', doc='Maximum depth of the tree. (>= 0) E.g., depth 0 means 1 leaf node; depth 1 means 1 internal node + 2 leaf nodes.'): 8, Param(parent='RandomForestClassifier_3993ba3db8fc', name='seed', doc='random seed.'): 42, Param(parent='RandomForestClassifier_3993ba3db8fc', name='numTrees', doc='Number of trees to train (>= 1).'): 20}), (0.7977559141902094, {Param(parent='RandomForestClassifier_3993ba3db8fc', name='maxDepth', doc='Maximum depth of the tree. (>= 0) E.g., depth 0 means 1 leaf node; depth 1 means 1 internal node + 2 leaf nodes.'): 8, Param(parent='RandomForestClassifier_3993ba3db8fc', name='seed', doc='random seed.'): 42, Param(parent='RandomForestClassifier_3993ba3db8fc', name='numTrees', doc='Number of trees to train (>= 1).'): 24}), (0.8254120639748166, {Param(parent='RandomForestClassifier_3993ba3db8fc', name='maxDepth', doc='Maximum depth of the tree. (>= 0) E.g., depth 0 means 1 leaf node; depth 1 means 1 internal node + 2 leaf nodes.'): 8, Param(parent='RandomForestClassifier_3993ba3db8fc', name='seed', doc='random seed.'): 42, Param(parent='RandomForestClassifier_3993ba3db8fc', name='numTrees', doc='Number of trees to train (>= 1).'): 28}), (0.7905586297882572, {Param(parent='RandomForestClassifier_3993ba3db8fc', name='maxDepth', doc='Maximum depth of the tree. (>= 0) E.g., depth 0 means 1 leaf node; depth 1 means 1 internal node + 2 leaf nodes.'): 12, Param(parent='RandomForestClassifier_3993ba3db8fc', name='seed', doc='random seed.'): 12, Param(parent='RandomForestClassifier_3993ba3db8fc', name='numTrees', doc='Number of trees to train (>= 1).'): 20}), (0.8176558492733808, {Param(parent='RandomForestClassifier_3993ba3db8fc', name='maxDepth', doc='Maximum depth of the tree. (>= 0) E.g., depth 0 means 1 leaf node; depth 1 means 1 internal node + 2 leaf nodes.'): 12, Param(parent='RandomForestClassifier_3993ba3db8fc', name='seed', doc='random seed.'): 12, Param(parent='RandomForestClassifier_3993ba3db8fc', name='numTrees', doc='Number of trees to train (>= 1).'): 24}), (0.8110201138526887, {Param(parent='RandomForestClassifier_3993ba3db8fc', name='maxDepth', doc='Maximum depth of the tree. (>= 0) E.g., depth 0 means 1 leaf node; depth 1 means 1 internal node + 2 leaf nodes.'): 12, Param(parent='RandomForestClassifier_3993ba3db8fc', name='seed', doc='random seed.'): 12, Param(parent='RandomForestClassifier_3993ba3db8fc', name='numTrees', doc='Number of trees to train (>= 1).'): 28}), (0.8193081706896406, {Param(parent='RandomForestClassifier_3993ba3db8fc', name='maxDepth', doc='Maximum depth of the tree. (>= 0) E.g., depth 0 means 1 leaf node; depth 1 means 1 internal node + 2 leaf nodes.'): 12, Param(parent='RandomForestClassifier_3993ba3db8fc', name='seed', doc='random seed.'): 24, Param(parent='RandomForestClassifier_3993ba3db8fc', name='numTrees', doc='Number of trees to train (>= 1).'): 20}), (0.8072083719052319, {Param(parent='RandomForestClassifier_3993ba3db8fc', name='maxDepth', doc='Maximum depth of the tree. (>= 0) E.g., depth 0 means 1 leaf node; depth 1 means 1 internal node + 2 leaf nodes.'): 12, Param(parent='RandomForestClassifier_3993ba3db8fc', name='seed', doc='random seed.'): 24, Param(parent='RandomForestClassifier_3993ba3db8fc', name='numTrees', doc='Number of trees to train (>= 1).'): 24}), (0.7800337262675685, {Param(parent='RandomForestClassifier_3993ba3db8fc', name='maxDepth', doc='Maximum depth of the tree. (>= 0) E.g., depth 0 means 1 leaf node; depth 1 means 1 internal node + 2 leaf nodes.'): 12, Param(parent='RandomForestClassifier_3993ba3db8fc', name='seed', doc='random seed.'): 24, Param(parent='RandomForestClassifier_3993ba3db8fc', name='numTrees', doc='Number of trees to train (>= 1).'): 28}), (0.837207848425384, {Param(parent='RandomForestClassifier_3993ba3db8fc', name='maxDepth', doc='Maximum depth of the tree. (>= 0) E.g., depth 0 means 1 leaf node; depth 1 means 1 internal node + 2 leaf nodes.'): 12, Param(parent='RandomForestClassifier_3993ba3db8fc', name='seed', doc='random seed.'): 42, Param(parent='RandomForestClassifier_3993ba3db8fc', name='numTrees', doc='Number of trees to train (>= 1).'): 20}), (0.7977559141902094, {Param(parent='RandomForestClassifier_3993ba3db8fc', name='maxDepth', doc='Maximum depth of the tree. (>= 0) E.g., depth 0 means 1 leaf node; depth 1 means 1 internal node + 2 leaf nodes.'): 12, Param(parent='RandomForestClassifier_3993ba3db8fc', name='seed', doc='random seed.'): 42, Param(parent='RandomForestClassifier_3993ba3db8fc', name='numTrees', doc='Number of trees to train (>= 1).'): 24}), (0.8254120639748166, {Param(parent='RandomForestClassifier_3993ba3db8fc', name='maxDepth', doc='Maximum depth of the tree. (>= 0) E.g., depth 0 means 1 leaf node; depth 1 means 1 internal node + 2 leaf nodes.'): 12, Param(parent='RandomForestClassifier_3993ba3db8fc', name='seed', doc='random seed.'): 42, Param(parent='RandomForestClassifier_3993ba3db8fc', name='numTrees', doc='Number of trees to train (>= 1).'): 28}), (0.7905586297882572, {Param(parent='RandomForestClassifier_3993ba3db8fc', name='maxDepth', doc='Maximum depth of the tree. (>= 0) E.g., depth 0 means 1 leaf node; depth 1 means 1 internal node + 2 leaf nodes.'): 20, Param(parent='RandomForestClassifier_3993ba3db8fc', name='seed', doc='random seed.'): 12, Param(parent='RandomForestClassifier_3993ba3db8fc', name='numTrees', doc='Number of trees to train (>= 1).'): 20}), (0.8176558492733808, {Param(parent='RandomForestClassifier_3993ba3db8fc', name='maxDepth', doc='Maximum depth of the tree. (>= 0) E.g., depth 0 means 1 leaf node; depth 1 means 1 internal node + 2 leaf nodes.'): 20, Param(parent='RandomForestClassifier_3993ba3db8fc', name='seed', doc='random seed.'): 12, Param(parent='RandomForestClassifier_3993ba3db8fc', name='numTrees', doc='Number of trees to train (>= 1).'): 24}), (0.8110201138526887, {Param(parent='RandomForestClassifier_3993ba3db8fc', name='maxDepth', doc='Maximum depth of the tree. (>= 0) E.g., depth 0 means 1 leaf node; depth 1 means 1 internal node + 2 leaf nodes.'): 20, Param(parent='RandomForestClassifier_3993ba3db8fc', name='seed', doc='random seed.'): 12, Param(parent='RandomForestClassifier_3993ba3db8fc', name='numTrees', doc='Number of trees to train (>= 1).'): 28}), (0.8193081706896406, {Param(parent='RandomForestClassifier_3993ba3db8fc', name='maxDepth', doc='Maximum depth of the tree. (>= 0) E.g., depth 0 means 1 leaf node; depth 1 means 1 internal node + 2 leaf nodes.'): 20, Param(parent='RandomForestClassifier_3993ba3db8fc', name='seed', doc='random seed.'): 24, Param(parent='RandomForestClassifier_3993ba3db8fc', name='numTrees', doc='Number of trees to train (>= 1).'): 20}), (0.8072083719052319, {Param(parent='RandomForestClassifier_3993ba3db8fc', name='maxDepth', doc='Maximum depth of the tree. (>= 0) E.g., depth 0 means 1 leaf node; depth 1 means 1 internal node + 2 leaf nodes.'): 20, Param(parent='RandomForestClassifier_3993ba3db8fc', name='seed', doc='random seed.'): 24, Param(parent='RandomForestClassifier_3993ba3db8fc', name='numTrees', doc='Number of trees to train (>= 1).'): 24}), (0.7800337262675685, {Param(parent='RandomForestClassifier_3993ba3db8fc', name='maxDepth', doc='Maximum depth of the tree. (>= 0) E.g., depth 0 means 1 leaf node; depth 1 means 1 internal node + 2 leaf nodes.'): 20, Param(parent='RandomForestClassifier_3993ba3db8fc', name='seed', doc='random seed.'): 24, Param(parent='RandomForestClassifier_3993ba3db8fc', name='numTrees', doc='Number of trees to train (>= 1).'): 28}), (0.837207848425384, {Param(parent='RandomForestClassifier_3993ba3db8fc', name='maxDepth', doc='Maximum depth of the tree. (>= 0) E.g., depth 0 means 1 leaf node; depth 1 means 1 internal node + 2 leaf nodes.'): 20, Param(parent='RandomForestClassifier_3993ba3db8fc', name='seed', doc='random seed.'): 42, Param(parent='RandomForestClassifier_3993ba3db8fc', name='numTrees', doc='Number of trees to train (>= 1).'): 20}), (0.7977559141902094, {Param(parent='RandomForestClassifier_3993ba3db8fc', name='maxDepth', doc='Maximum depth of the tree. (>= 0) E.g., depth 0 means 1 leaf node; depth 1 means 1 internal node + 2 leaf nodes.'): 20, Param(parent='RandomForestClassifier_3993ba3db8fc', name='seed', doc='random seed.'): 42, Param(parent='RandomForestClassifier_3993ba3db8fc', name='numTrees', doc='Number of trees to train (>= 1).'): 24}), (0.8254120639748166, {Param(parent='RandomForestClassifier_3993ba3db8fc', name='maxDepth', doc='Maximum depth of the tree. (>= 0) E.g., depth 0 means 1 leaf node; depth 1 means 1 internal node + 2 leaf nodes.'): 20, Param(parent='RandomForestClassifier_3993ba3db8fc', name='seed', doc='random seed.'): 42, Param(parent='RandomForestClassifier_3993ba3db8fc', name='numTrees', doc='Number of trees to train (>= 1).'): 28}), (0.7905586297882572, {Param(parent='RandomForestClassifier_3993ba3db8fc', name='maxDepth', doc='Maximum depth of the tree. (>= 0) E.g., depth 0 means 1 leaf node; depth 1 means 1 internal node + 2 leaf nodes.'): 24, Param(parent='RandomForestClassifier_3993ba3db8fc', name='seed', doc='random seed.'): 12, Param(parent='RandomForestClassifier_3993ba3db8fc', name='numTrees', doc='Number of trees to train (>= 1).'): 20}), (0.8176558492733808, {Param(parent='RandomForestClassifier_3993ba3db8fc', name='maxDepth', doc='Maximum depth of the tree. (>= 0) E.g., depth 0 means 1 leaf node; depth 1 means 1 internal node + 2 leaf nodes.'): 24, Param(parent='RandomForestClassifier_3993ba3db8fc', name='seed', doc='random seed.'): 12, Param(parent='RandomForestClassifier_3993ba3db8fc', name='numTrees', doc='Number of trees to train (>= 1).'): 24}), (0.8110201138526887, {Param(parent='RandomForestClassifier_3993ba3db8fc', name='maxDepth', doc='Maximum depth of the tree. (>= 0) E.g., depth 0 means 1 leaf node; depth 1 means 1 internal node + 2 leaf nodes.'): 24, Param(parent='RandomForestClassifier_3993ba3db8fc', name='seed', doc='random seed.'): 12, Param(parent='RandomForestClassifier_3993ba3db8fc', name='numTrees', doc='Number of trees to train (>= 1).'): 28}), (0.8193081706896406, {Param(parent='RandomForestClassifier_3993ba3db8fc', name='maxDepth', doc='Maximum depth of the tree. (>= 0) E.g., depth 0 means 1 leaf node; depth 1 means 1 internal node + 2 leaf nodes.'): 24, Param(parent='RandomForestClassifier_3993ba3db8fc', name='seed', doc='random seed.'): 24, Param(parent='RandomForestClassifier_3993ba3db8fc', name='numTrees', doc='Number of trees to train (>= 1).'): 20}), (0.8072083719052319, {Param(parent='RandomForestClassifier_3993ba3db8fc', name='maxDepth', doc='Maximum depth of the tree. (>= 0) E.g., depth 0 means 1 leaf node; depth 1 means 1 internal node + 2 leaf nodes.'): 24, Param(parent='RandomForestClassifier_3993ba3db8fc', name='seed', doc='random seed.'): 24, Param(parent='RandomForestClassifier_3993ba3db8fc', name='numTrees', doc='Number of trees to train (>= 1).'): 24}), (0.7800337262675685, {Param(parent='RandomForestClassifier_3993ba3db8fc', name='maxDepth', doc='Maximum depth of the tree. (>= 0) E.g., depth 0 means 1 leaf node; depth 1 means 1 internal node + 2 leaf nodes.'): 24, Param(parent='RandomForestClassifier_3993ba3db8fc', name='seed', doc='random seed.'): 24, Param(parent='RandomForestClassifier_3993ba3db8fc', name='numTrees', doc='Number of trees to train (>= 1).'): 28}), (0.837207848425384, {Param(parent='RandomForestClassifier_3993ba3db8fc', name='maxDepth', doc='Maximum depth of the tree. (>= 0) E.g., depth 0 means 1 leaf node; depth 1 means 1 internal node + 2 leaf nodes.'): 24, Param(parent='RandomForestClassifier_3993ba3db8fc', name='seed', doc='random seed.'): 42, Param(parent='RandomForestClassifier_3993ba3db8fc', name='numTrees', doc='Number of trees to train (>= 1).'): 20}), (0.7977559141902094, {Param(parent='RandomForestClassifier_3993ba3db8fc', name='maxDepth', doc='Maximum depth of the tree. (>= 0) E.g., depth 0 means 1 leaf node; depth 1 means 1 internal node + 2 leaf nodes.'): 24, Param(parent='RandomForestClassifier_3993ba3db8fc', name='seed', doc='random seed.'): 42, Param(parent='RandomForestClassifier_3993ba3db8fc', name='numTrees', doc='Number of trees to train (>= 1).'): 24}), (0.8254120639748166, {Param(parent='RandomForestClassifier_3993ba3db8fc', name='maxDepth', doc='Maximum depth of the tree. (>= 0) E.g., depth 0 means 1 leaf node; depth 1 means 1 internal node + 2 leaf nodes.'): 24, Param(parent='RandomForestClassifier_3993ba3db8fc', name='seed', doc='random seed.'): 42, Param(parent='RandomForestClassifier_3993ba3db8fc', name='numTrees', doc='Number of trees to train (>= 1).'): 28})]\n"
     ]
    }
   ],
   "source": [
    "#Find parameters for our highest scoring model\n",
    "parameters_and_scores= zip(cv_model_rf_grid.avgMetrics, param_grid_rf)\n",
    "print(list(parameters_and_scores))"
   ]
  },
  {
   "cell_type": "code",
   "execution_count": 87,
   "metadata": {},
   "outputs": [
    {
     "name": "stdout",
     "output_type": "stream",
     "text": [
      "+--------------------+-----+--------------------+--------------------+----------+\n",
      "|            features|label|       rawPrediction|         probability|prediction|\n",
      "+--------------------+-----+--------------------+--------------------+----------+\n",
      "|[0.0,0.3503396806...|    0|[16.7760389290166...|[0.83880194645083...|       0.0|\n",
      "|[0.0,1.8963295694...|    0|[19.7600412822471...|[0.98800206411235...|       0.0|\n",
      "|[1.99749598442950...|    1|[19.6017820922343...|[0.98008910461171...|       0.0|\n",
      "|[1.99749598442950...|    0|[18.7549075924075...|[0.93774537962037...|       0.0|\n",
      "|[0.0,0.1326788339...|    1|[16.9685671776041...|[0.84842835888020...|       0.0|\n",
      "|[0.0,0.1906865708...|    0|[15.4845821661998...|[0.77422910830999...|       0.0|\n",
      "|[1.99749598442950...|    1|[19.2381698576540...|[0.96190849288270...|       0.0|\n",
      "|[0.0,1.5570119287...|    0|[19.4923703275285...|[0.97461851637642...|       0.0|\n",
      "|[0.0,1.2715073320...|    0|[2.15384615384615...|[0.10769230769230...|       1.0|\n",
      "|[0.0,0.5729442921...|    0|[16.0690935039002...|[0.80345467519501...|       0.0|\n",
      "+--------------------+-----+--------------------+--------------------+----------+\n",
      "only showing top 10 rows\n",
      "\n"
     ]
    }
   ],
   "source": [
    "#Plot a ROC curve before tuning the random forest classifier model\n",
    "#Understand how the results are structured so we can plot a ROC curve\n",
    "res_rf.show(10)"
   ]
  },
  {
   "cell_type": "code",
   "execution_count": 88,
   "metadata": {},
   "outputs": [
    {
     "data": {
      "text/plain": [
       "Text(0.5,1,'ROC Curve')"
      ]
     },
     "execution_count": 88,
     "metadata": {},
     "output_type": "execute_result"
    },
    {
     "data": {
      "image/png": "[encoded data removed]",
      "text/plain": [
       "<matplotlib.figure.Figure at 0x7f704d005358>"
      ]
     },
     "metadata": {
      "needs_background": "light"
     },
     "output_type": "display_data"
    }
   ],
   "source": [
    "#Plot the ROC Curve\n",
    "fig = plt.figure()\n",
    "ax = fig.add_subplot(111)\n",
    "true_positives, false_positives, _ = roc_curve(res_rf.toPandas()['label'],\\\n",
    "                                    res_rf.toPandas()['probability'].apply(lambda x:x[1]).values)\n",
    "ax.plot(true_positives, false_positives)\n",
    "ax.set_xlabel(\"False Positive Rate\")\n",
    "ax.set_ylabel(\"True Positive Rate\")\n",
    "ax.set_title(\"ROC Curve\")\n"
   ]
  },
  {
   "cell_type": "code",
   "execution_count": 89,
   "metadata": {},
   "outputs": [
    {
     "data": {
      "text/plain": [
       "[0.8072083719052319]"
      ]
     },
     "execution_count": 89,
     "metadata": {},
     "output_type": "execute_result"
    }
   ],
   "source": [
    "# (0.8033039131012418, {Param(parent='RandomForestClassifier_5ae815e89ef9', name='maxDepth', \n",
    "#                             doc='Maximum depth of the tree. (>= 0) E.g., \n",
    "#                             depth 0 means 1 leaf node; depth 1 means 1 internal node + 2 leaf nodes.'): 12, \n",
    "#                             Param(parent='RandomForestClassifier_5ae815e89ef9', name='seed', doc='random seed.')\n",
    "#                             : 24, \n",
    "#                             Param(parent='RandomForestClassifier_5ae815e89ef9', \n",
    "                                  \n",
    "#                             name='numTrees', doc='Number of trees to train (>= 1).'): 24})\n",
    "\n",
    "\n",
    "#Use best parameters to tune our final model\n",
    "rf = RandomForestClassifier(labelCol=\"label\", \n",
    "                            featuresCol=\"features\",\n",
    "                            maxDepth=12,\n",
    "                            seed=24,\n",
    "                            numTrees=24\n",
    "                            )\n",
    "\n",
    "\n",
    "f1_eval=MulticlassClassificationEvaluator(metricName = \"f1\")\n",
    "param_grid = ParamGridBuilder().build()\n",
    "rf_cross_validator = CrossValidator(estimator = rf, estimatorParamMaps = param_grid,\\\n",
    "                              evaluator = f1_eval, numFolds = 2)\n",
    "\n",
    "rf_cv_model = rf_cross_validator.fit(training_data)\n",
    "rf_cv_model.avgMetrics\n"
   ]
  },
  {
   "cell_type": "code",
   "execution_count": 93,
   "metadata": {},
   "outputs": [
    {
     "name": "stdout",
     "output_type": "stream",
     "text": [
      "The metrics for the final Random Forest Classifier model are:\n",
      "Accuracy: 0.8095238095238095\n",
      "F1 Score: 0.7941317941317942\n"
     ]
    }
   ],
   "source": [
    "res_rf = rf_cv_model.transform(test_data)\n",
    "#Obtain and print evaluation metrics for Random Forest Classifier\n",
    "evaluator = MulticlassClassificationEvaluator(predictionCol = \"prediction\")\n",
    "print(\"The metrics for the final Random Forest Classifier model are:\")\n",
    "print(\"Accuracy: {}\".format(evaluator.evaluate(res_rf, {evaluator.metricName : \"accuracy\"})))\n",
    "print(\"F1 Score: {}\".format(evaluator.evaluate(res_rf, {evaluator.metricName : \"f1\"})))"
   ]
  },
  {
   "cell_type": "markdown",
   "metadata": {},
   "source": [
    "# Final Steps\n",
    "Clean up your code, adding comments and renaming variables to make the code easier to read and maintain. Refer to the Spark Project Overview page and Data Scientist Capstone Project Rubric to make sure you are including all components of the capstone project and meet all expectations. Remember, this includes thorough documentation in a README file in a Github repository, as well as a web app or blog post."
   ]
  }
 ],
 "metadata": {
  "kernelspec": {
   "display_name": "Python 3",
   "language": "python",
   "name": "python3"
  },
  "language_info": {
   "codemirror_mode": {
    "name": "ipython",
    "version": 3
   },
   "file_extension": ".py",
   "mimetype": "text/x-python",
   "name": "python",
   "nbconvert_exporter": "python",
   "pygments_lexer": "ipython3",
   "version": "3.6.3"
  }
 },
 "nbformat": 4,
 "nbformat_minor": 2
}
